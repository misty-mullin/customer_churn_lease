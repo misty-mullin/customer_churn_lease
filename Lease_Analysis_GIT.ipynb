{
 "cells": [
  {
   "cell_type": "markdown",
   "id": "55d222e1",
   "metadata": {},
   "source": [
    "# Part I: \n",
    "The business would like to understand what are the drivers that explain whether a resident will renew the lease or not. In other words, to understand what are the renewal promoters and detractors. At this stage, the purpose is to keep the analysis simple, interpretable, and easy to communicate, while also ensuring effectiveness and soundstatistical foundation."
   ]
  },
  {
   "cell_type": "code",
   "execution_count": 1,
   "id": "aafc0f5d",
   "metadata": {},
   "outputs": [],
   "source": [
    "#load in common libraries\n",
    "import pandas as pd\n",
    "import numpy as np\n",
    "import matplotlib.pyplot as plt\n",
    "import seaborn as sns\n",
    "from scipy import stats\n",
    "from xgboost import plot_tree"
   ]
  },
  {
   "cell_type": "code",
   "execution_count": 90,
   "id": "9a91536e",
   "metadata": {},
   "outputs": [
    {
     "data": {
      "text/html": [
       "<div>\n",
       "<style scoped>\n",
       "    .dataframe tbody tr th:only-of-type {\n",
       "        vertical-align: middle;\n",
       "    }\n",
       "\n",
       "    .dataframe tbody tr th {\n",
       "        vertical-align: top;\n",
       "    }\n",
       "\n",
       "    .dataframe thead th {\n",
       "        text-align: right;\n",
       "    }\n",
       "</style>\n",
       "<table border=\"1\" class=\"dataframe\">\n",
       "  <thead>\n",
       "    <tr style=\"text-align: right;\">\n",
       "      <th></th>\n",
       "      <th>lease_id</th>\n",
       "      <th>no_rent_change</th>\n",
       "      <th>rent_change_10</th>\n",
       "      <th>rent_change_20</th>\n",
       "      <th>lease_length_2</th>\n",
       "      <th>lease_length_3</th>\n",
       "      <th>lease_length_1</th>\n",
       "      <th>age_range_under_24</th>\n",
       "      <th>age_range_24_29</th>\n",
       "      <th>age_range_30_39</th>\n",
       "      <th>age_range_40_49</th>\n",
       "      <th>age_range_50_59</th>\n",
       "      <th>age_range_60</th>\n",
       "      <th>NoFinesViolations</th>\n",
       "      <th>PositiveSurvey</th>\n",
       "      <th>LatePayments</th>\n",
       "      <th>HOA_mandatory</th>\n",
       "      <th>Renewed</th>\n",
       "    </tr>\n",
       "  </thead>\n",
       "  <tbody>\n",
       "    <tr>\n",
       "      <th>0</th>\n",
       "      <td>HPA0001</td>\n",
       "      <td>0</td>\n",
       "      <td>0</td>\n",
       "      <td>0</td>\n",
       "      <td>0</td>\n",
       "      <td>0</td>\n",
       "      <td>0</td>\n",
       "      <td>0</td>\n",
       "      <td>0</td>\n",
       "      <td>0</td>\n",
       "      <td>0</td>\n",
       "      <td>0</td>\n",
       "      <td>0</td>\n",
       "      <td>0</td>\n",
       "      <td>1</td>\n",
       "      <td>1</td>\n",
       "      <td>0</td>\n",
       "      <td>1</td>\n",
       "    </tr>\n",
       "    <tr>\n",
       "      <th>1</th>\n",
       "      <td>HPA0002</td>\n",
       "      <td>0</td>\n",
       "      <td>0</td>\n",
       "      <td>0</td>\n",
       "      <td>0</td>\n",
       "      <td>0</td>\n",
       "      <td>0</td>\n",
       "      <td>0</td>\n",
       "      <td>0</td>\n",
       "      <td>0</td>\n",
       "      <td>0</td>\n",
       "      <td>0</td>\n",
       "      <td>0</td>\n",
       "      <td>0</td>\n",
       "      <td>0</td>\n",
       "      <td>0</td>\n",
       "      <td>0</td>\n",
       "      <td>0</td>\n",
       "    </tr>\n",
       "    <tr>\n",
       "      <th>2</th>\n",
       "      <td>HPA0003</td>\n",
       "      <td>0</td>\n",
       "      <td>0</td>\n",
       "      <td>0</td>\n",
       "      <td>0</td>\n",
       "      <td>0</td>\n",
       "      <td>0</td>\n",
       "      <td>0</td>\n",
       "      <td>0</td>\n",
       "      <td>0</td>\n",
       "      <td>0</td>\n",
       "      <td>0</td>\n",
       "      <td>0</td>\n",
       "      <td>0</td>\n",
       "      <td>1</td>\n",
       "      <td>0</td>\n",
       "      <td>0</td>\n",
       "      <td>0</td>\n",
       "    </tr>\n",
       "    <tr>\n",
       "      <th>3</th>\n",
       "      <td>HPA0004</td>\n",
       "      <td>0</td>\n",
       "      <td>0</td>\n",
       "      <td>0</td>\n",
       "      <td>0</td>\n",
       "      <td>0</td>\n",
       "      <td>0</td>\n",
       "      <td>0</td>\n",
       "      <td>0</td>\n",
       "      <td>0</td>\n",
       "      <td>0</td>\n",
       "      <td>0</td>\n",
       "      <td>0</td>\n",
       "      <td>0</td>\n",
       "      <td>1</td>\n",
       "      <td>1</td>\n",
       "      <td>0</td>\n",
       "      <td>0</td>\n",
       "    </tr>\n",
       "    <tr>\n",
       "      <th>4</th>\n",
       "      <td>HPA0005</td>\n",
       "      <td>0</td>\n",
       "      <td>0</td>\n",
       "      <td>0</td>\n",
       "      <td>0</td>\n",
       "      <td>0</td>\n",
       "      <td>0</td>\n",
       "      <td>0</td>\n",
       "      <td>0</td>\n",
       "      <td>0</td>\n",
       "      <td>0</td>\n",
       "      <td>0</td>\n",
       "      <td>0</td>\n",
       "      <td>0</td>\n",
       "      <td>0</td>\n",
       "      <td>0</td>\n",
       "      <td>0</td>\n",
       "      <td>0</td>\n",
       "    </tr>\n",
       "  </tbody>\n",
       "</table>\n",
       "</div>"
      ],
      "text/plain": [
       "  lease_id  no_rent_change  rent_change_10  rent_change_20  lease_length_2  \\\n",
       "0  HPA0001               0               0               0               0   \n",
       "1  HPA0002               0               0               0               0   \n",
       "2  HPA0003               0               0               0               0   \n",
       "3  HPA0004               0               0               0               0   \n",
       "4  HPA0005               0               0               0               0   \n",
       "\n",
       "   lease_length_3  lease_length_1  age_range_under_24  age_range_24_29  \\\n",
       "0               0               0                   0                0   \n",
       "1               0               0                   0                0   \n",
       "2               0               0                   0                0   \n",
       "3               0               0                   0                0   \n",
       "4               0               0                   0                0   \n",
       "\n",
       "   age_range_30_39  age_range_40_49  age_range_50_59  age_range_60  \\\n",
       "0                0                0                0             0   \n",
       "1                0                0                0             0   \n",
       "2                0                0                0             0   \n",
       "3                0                0                0             0   \n",
       "4                0                0                0             0   \n",
       "\n",
       "   NoFinesViolations  PositiveSurvey  LatePayments  HOA_mandatory  Renewed  \n",
       "0                  0               1             1              0        1  \n",
       "1                  0               0             0              0        0  \n",
       "2                  0               1             0              0        0  \n",
       "3                  0               1             1              0        0  \n",
       "4                  0               0             0              0        0  "
      ]
     },
     "execution_count": 90,
     "metadata": {},
     "output_type": "execute_result"
    }
   ],
   "source": [
    "#read in the dataset\n",
    "df=pd.read_csv(r\".csv\")\n",
    "df.head()"
   ]
  },
  {
   "cell_type": "markdown",
   "id": "2027b2ec",
   "metadata": {},
   "source": [
    "## Exploratory Data Analysis"
   ]
  },
  {
   "cell_type": "code",
   "execution_count": 91,
   "id": "3685565a",
   "metadata": {},
   "outputs": [
    {
     "data": {
      "image/png": "[encoded data removed]",
      "text/plain": [
       "<Figure size 720x576 with 1 Axes>"
      ]
     },
     "metadata": {},
     "output_type": "display_data"
    }
   ],
   "source": [
    "labels=\"Renewed\", \"Did Not Renew\"\n",
    "sizes=[df.Renewed[df['Renewed']==1].count(), df.Renewed[df['Renewed']==0].count()]\n",
    "explode=(0,0.1)\n",
    "fig1, ax1 = plt.subplots(figsize=(10,8))\n",
    "ax1.pie(sizes, explode=explode, labels=labels, autopct= '%1.1f%%', shadow=True, startangle=90, colors = ['#ff9999','#66b3ff'])\n",
    "\n",
    "ax1.axis('equal')\n",
    "plt.title(\"Lease Renewal Comparison\", size = 25)\n",
    "plt.show()"
   ]
  },
  {
   "cell_type": "markdown",
   "id": "a1c88fb2",
   "metadata": {},
   "source": [
    "To interpret this graph, on can conclude that about 20% of clients did renew their lease, while about 80% did not.Thus, we will use the chi-square test of independence to examine the data and answer whether we have enough evidence to conclude that the two categorical variables are related. "
   ]
  },
  {
   "cell_type": "markdown",
   "id": "d4d5194f",
   "metadata": {},
   "source": [
    "# Hypothesis Test\n",
    "\n",
    "- Ho (The null hypothesis): There is no relatipnship between the two categorical variables (they are independent). \n",
    "- Ha (The alternate hypothesis): There is a relationship between the two categorical variables (they are dependent). \n",
    "\n",
    "Steps: \n",
    "- build contingency table\n",
    "- find the expected values\n",
    "- calculate the chi-square statistic\n",
    "- Reject or Fail to Reject the Null Hypothesis"
   ]
  },
  {
   "cell_type": "code",
   "execution_count": 4,
   "id": "80a11821",
   "metadata": {},
   "outputs": [
    {
     "data": {
      "text/html": [
       "<div>\n",
       "<style scoped>\n",
       "    .dataframe tbody tr th:only-of-type {\n",
       "        vertical-align: middle;\n",
       "    }\n",
       "\n",
       "    .dataframe tbody tr th {\n",
       "        vertical-align: top;\n",
       "    }\n",
       "\n",
       "    .dataframe thead th {\n",
       "        text-align: right;\n",
       "    }\n",
       "</style>\n",
       "<table border=\"1\" class=\"dataframe\">\n",
       "  <thead>\n",
       "    <tr style=\"text-align: right;\">\n",
       "      <th>Renewed</th>\n",
       "      <th>0</th>\n",
       "      <th>1</th>\n",
       "      <th>All</th>\n",
       "    </tr>\n",
       "    <tr>\n",
       "      <th>no_rent_change</th>\n",
       "      <th></th>\n",
       "      <th></th>\n",
       "      <th></th>\n",
       "    </tr>\n",
       "  </thead>\n",
       "  <tbody>\n",
       "    <tr>\n",
       "      <th>0</th>\n",
       "      <td>51797</td>\n",
       "      <td>10372</td>\n",
       "      <td>62169</td>\n",
       "    </tr>\n",
       "    <tr>\n",
       "      <th>1</th>\n",
       "      <td>12411</td>\n",
       "      <td>5270</td>\n",
       "      <td>17681</td>\n",
       "    </tr>\n",
       "    <tr>\n",
       "      <th>All</th>\n",
       "      <td>64208</td>\n",
       "      <td>15642</td>\n",
       "      <td>79850</td>\n",
       "    </tr>\n",
       "  </tbody>\n",
       "</table>\n",
       "</div>"
      ],
      "text/plain": [
       "Renewed             0      1    All\n",
       "no_rent_change                     \n",
       "0               51797  10372  62169\n",
       "1               12411   5270  17681\n",
       "All             64208  15642  79850"
      ]
     },
     "execution_count": 4,
     "metadata": {},
     "output_type": "execute_result"
    }
   ],
   "source": [
    "## No Rent Change Column\n",
    "no_rent_change_crosstab = pd.crosstab(df[\"no_rent_change\"], df[\"Renewed\"], margins = True)\n",
    "no_rent_change_crosstab"
   ]
  },
  {
   "cell_type": "markdown",
   "id": "b613ab31",
   "metadata": {},
   "source": [
    "We will use a heatmap to visualize this table."
   ]
  },
  {
   "cell_type": "code",
   "execution_count": 5,
   "id": "d5e05217",
   "metadata": {},
   "outputs": [
    {
     "data": {
      "text/plain": [
       "<AxesSubplot:xlabel='Renewed', ylabel='no_rent_change'>"
      ]
     },
     "execution_count": 5,
     "metadata": {},
     "output_type": "execute_result"
    },
    {
     "data": {
      "image/png": "[encoded data removed]",
      "text/plain": [
       "<Figure size 864x576 with 2 Axes>"
      ]
     },
     "metadata": {
      "needs_background": "light"
     },
     "output_type": "display_data"
    }
   ],
   "source": [
    "plt.figure(figsize=(12,8)) \n",
    "sns.heatmap(no_rent_change_crosstab, annot=True, cmap=\"YlOrRd\")"
   ]
  },
  {
   "cell_type": "markdown",
   "id": "71e16c02",
   "metadata": {},
   "source": [
    "## Identifying independent/dependent features"
   ]
  },
  {
   "cell_type": "code",
   "execution_count": 6,
   "id": "2aa53fb4",
   "metadata": {},
   "outputs": [],
   "source": [
    "## Rent Change at most 10%\n",
    "rent_change_10_crosstab = pd.crosstab(df[\"rent_change_10\"], df[\"Renewed\"], margins = True)\n",
    "\n",
    "## Rent Change by more than 10% but at most 20%\n",
    "rent_change_20_crosstab = pd.crosstab(df[\"rent_change_20\"], df[\"Renewed\"], margins = True)\n",
    "\n",
    "## Lease Lengths \n",
    "lease_length_1_crosstab = pd.crosstab(df[\"lease_length_1\"], df[\"Renewed\"], margins = True)\n",
    "lease_length_2_crosstab = pd.crosstab(df[\"lease_length_2\"], df[\"Renewed\"], margins = True)\n",
    "lease_length_3_crosstab = pd.crosstab(df[\"lease_length_3\"], df[\"Renewed\"], margins = True)\n",
    "\n",
    "\n",
    "## Age Ranges\n",
    "age_range_under_24_crosstab = pd.crosstab(df[\"age_range_under_24\"], df[\"Renewed\"], margins = True)\n",
    "\n",
    "age_range_24_29_crosstab = pd.crosstab(df[\"age_range_24_29\"], df[\"Renewed\"], margins = True)\n",
    "\n",
    "age_range_30_39_crosstab = pd.crosstab(df[\"age_range_30_39\"], df[\"Renewed\"], margins = True)\n",
    "\n",
    "age_range_40_49_crosstab = pd.crosstab(df[\"age_range_40_49\"], df[\"Renewed\"], margins = True)\n",
    "\n",
    "age_range_50_59_crosstab = pd.crosstab(df[\"age_range_50_59\"], df[\"Renewed\"], margins = True)\n",
    "\n",
    "age_range_60_crosstab = pd.crosstab(df[\"age_range_60\"], df[\"Renewed\"], margins = True)\n",
    "\n",
    "## Positive Survey\n",
    "\n",
    "positive_survey_crosstab = pd.crosstab(df[\"PositiveSurvey\"], df[\"Renewed\"], margins = True)\n",
    "\n",
    "## No Fines or Violations\n",
    "no_fines_crosstab = pd.crosstab(df[\"NoFinesViolations\"], df[\"Renewed\"], margins = True)\n",
    "\n",
    "## No Late Payments\n",
    "\n",
    "late_payments_crosstab = pd.crosstab(df[\"LatePayments\"], df[\"Renewed\"], margins = True)\n",
    "\n",
    "## If there's a mandatory HOA fee on the Lease\n",
    "\n",
    "HOA_crosstab = pd.crosstab(df[\"HOA_mandatory\"], df[\"Renewed\"], margins = True)\n"
   ]
  },
  {
   "cell_type": "code",
   "execution_count": 7,
   "id": "0e9efe3d",
   "metadata": {},
   "outputs": [],
   "source": [
    "def categorical_dependency(crosstab_table):\n",
    "    '''Pass Crosstab Table to function to check its dependency'''\n",
    "    '''Use Chi2 from scipy library'''\n",
    "    confidence_interval = 0.95\n",
    "    \n",
    "    chi_stat, p_value, degrees_of_freedom, expected = stats.chi2_contingency(crosstab_table)\n",
    "    ## expected is just the cross table with expected values, no need to return it\n",
    "    print (\"Chi-Square Statistic value = {}\".format(chi_stat))\n",
    "    print (\"P - Value = {}\".format(p_value))\n",
    "    alpha = 1.0 - confidence_interval ## Alpha will always be 0.05 in this case\n",
    "    \n",
    "    if p_value <= alpha:\n",
    "        print('Dependent (reject H0)')\n",
    "    else:  \n",
    "         print('Independent (fail to reject H0)')\n",
    "            \n",
    "    return expected"
   ]
  },
  {
   "cell_type": "code",
   "execution_count": 8,
   "id": "0d8cf25c",
   "metadata": {},
   "outputs": [
    {
     "name": "stdout",
     "output_type": "stream",
     "text": [
      "Chi-Square Statistic value = 1504.8876490872017\n",
      "P - Value = 0.0\n",
      "Dependent (reject H0)\n",
      "\n",
      "Chi-Square Statistic value = 48.930692575598414\n",
      "P - Value = 6.036492920236767e-10\n",
      "Dependent (reject H0)\n",
      "\n",
      "Chi-Square Statistic value = 1306.5278738862546\n",
      "P - Value = 1.278880430541224e-281\n",
      "Dependent (reject H0)\n",
      "Chi-Square Statistic value = 1326.0077950161763\n",
      "P - Value = 7.642517827117916e-286\n",
      "Dependent (reject H0)\n",
      "\n",
      "Chi-Square Statistic value = 299.20590173696974\n",
      "P - Value = 1.607301843254518e-63\n",
      "Dependent (reject H0)\n",
      "\n",
      "Chi-Square Statistic value = 45.33823503369564\n",
      "P - Value = 3.381500210083084e-09\n",
      "Dependent (reject H0)\n",
      "\n",
      "Chi-Square Statistic value = 597.4545295152955\n",
      "P - Value = 5.509644429734212e-128\n",
      "Dependent (reject H0)\n",
      "Chi-Square Statistic value = 642.7039427336928\n",
      "P - Value = 8.849982606757292e-138\n",
      "Dependent (reject H0)\n",
      "\n",
      "Chi-Square Statistic value = 588.1097058703072\n",
      "P - Value = 5.8009985313031116e-126\n",
      "Dependent (reject H0)\n",
      "\n",
      "Chi-Square Statistic value = 28.207873269281187\n",
      "P - Value = 1.1319527565955887e-05\n",
      "Dependent (reject H0)\n",
      "Chi-Square Statistic value = 211.73508470787507\n",
      "P - Value = 1.1250099538436605e-44\n",
      "Dependent (reject H0)\n",
      "\n",
      "Chi-Square Statistic value = 4.2438438244620205\n",
      "P - Value = 0.37400986588335755\n",
      "Independent (fail to reject H0)\n",
      "\n",
      "Chi-Square Statistic value = 340.52232692570897\n",
      "P - Value = 1.9506309724246455e-72\n",
      "Dependent (reject H0)\n",
      "\n",
      "Chi-Square Statistic value = 53.91518397498539\n",
      "P - Value = 5.482344432478185e-11\n",
      "Dependent (reject H0)\n",
      "\n",
      "Chi-Square Statistic value = 14.290431145336019\n",
      "P - Value = 0.006423546727277222\n",
      "Dependent (reject H0)\n",
      "\n",
      "Chi-Square Statistic value = 46.0963099210536\n",
      "P - Value = 2.3517721567420323e-09\n",
      "Dependent (reject H0)\n"
     ]
    }
   ],
   "source": [
    "## Pass in crosstab tables\n",
    "\n",
    "## No Change in Rent\n",
    "expected_table_1 = categorical_dependency(no_rent_change_crosstab)\n",
    "print()\n",
    "## Rent Changed by at most 10%\n",
    "expected_table_2 = categorical_dependency(rent_change_10_crosstab)\n",
    "print()\n",
    "\n",
    "## Rent Changed by more than 10% and at most 20%\n",
    "expected_table_3 = categorical_dependency(rent_change_20_crosstab)\n",
    "\n",
    "## No Fines or Violations\n",
    "expected_table_no_fines = categorical_dependency(no_fines_crosstab)\n",
    "print()\n",
    "## Check Late Payments\n",
    "expected_table_late_payments = categorical_dependency(late_payments_crosstab)\n",
    "print()\n",
    "## Positive Survey\n",
    "expected_table_positive = categorical_dependency(positive_survey_crosstab)\n",
    "print()\n",
    "## HOA Mandatory\n",
    "expected_table_hoa = categorical_dependency(HOA_crosstab)\n",
    "\n",
    "## Check Lease Length\n",
    "## The resident has lived for at most 1 year on the lease\n",
    "expected_table_lease_length_1 = categorical_dependency(lease_length_1_crosstab)\n",
    "print()\n",
    "## The resident has lvied for more than 1 but at most 2 years on the lease\n",
    "expected_table_lease_length_2 = categorical_dependency(lease_length_2_crosstab)\n",
    "print()\n",
    "## The resident has lived for more than 2 but at most 3 years on the lease\n",
    "expected_table_lease_length_3 = categorical_dependency(lease_length_3_crosstab)\n",
    "\n",
    "## Now Lets Check the Age Ranges\n",
    "\n",
    "## Under 24\n",
    "expected_table_age_under_24 = categorical_dependency(age_range_under_24_crosstab)\n",
    "print()\n",
    "## 24 - 29\n",
    "expected_table_age_20s = categorical_dependency(age_range_24_29_crosstab)\n",
    "print()\n",
    "\n",
    "## Age 30-39\n",
    "expected_table_age_30 = categorical_dependency(age_range_30_39_crosstab)\n",
    "print()\n",
    "\n",
    "## Age 40 -49\n",
    "expected_table_age_40 = categorical_dependency(age_range_40_49_crosstab)\n",
    "print()\n",
    "\n",
    "## Age 50- 59\n",
    "\n",
    "expected_table_age_50 = categorical_dependency(age_range_50_59_crosstab)\n",
    "print()\n",
    "\n",
    "## Age 60+\n",
    "expected_table_age_60 = categorical_dependency(age_range_60_crosstab)\n"
   ]
  },
  {
   "cell_type": "code",
   "execution_count": 9,
   "id": "8c161bd6",
   "metadata": {},
   "outputs": [],
   "source": [
    "from sklearn.feature_selection import chi2"
   ]
  },
  {
   "cell_type": "code",
   "execution_count": 10,
   "id": "caa41193",
   "metadata": {},
   "outputs": [],
   "source": [
    "# Columns\n",
    "X = df[[\"no_rent_change\",\"rent_change_10\",\"rent_change_20\",\"lease_length_2\",\"lease_length_3\",\"lease_length_1\",\"age_range_under_24\",\"age_range_24_29\",\"age_range_30_39\",\"age_range_40_49\",\"age_range_50_59\",\"age_range_60\",\"NoFinesViolations\",\"PositiveSurvey\",\"LatePayments\",\"HOA_mandatory\"]]"
   ]
  },
  {
   "cell_type": "code",
   "execution_count": 11,
   "id": "b58986b1",
   "metadata": {},
   "outputs": [],
   "source": [
    "y = df[[\"Renewed\"]]"
   ]
  },
  {
   "cell_type": "code",
   "execution_count": 12,
   "id": "28e8fe45",
   "metadata": {},
   "outputs": [
    {
     "data": {
      "text/plain": [
       "<AxesSubplot:>"
      ]
     },
     "execution_count": 12,
     "metadata": {},
     "output_type": "execute_result"
    },
    {
     "data": {
      "image/png": "[encoded data removed]",
      "text/plain": [
       "<Figure size 432x288 with 1 Axes>"
      ]
     },
     "metadata": {
      "needs_background": "light"
     },
     "output_type": "display_data"
    }
   ],
   "source": [
    "chi_scores = chi2(X,y)\n",
    "p_values = pd.Series(chi_scores[1],index = X.columns)\n",
    "p_values.sort_values(ascending = False , inplace = True)\n",
    "p_values.plot.bar()"
   ]
  },
  {
   "cell_type": "markdown",
   "id": "c5266b6e",
   "metadata": {},
   "source": [
    "From this visual, we are able to conclude that the age range 24-29 is an independent feature. "
   ]
  },
  {
   "cell_type": "markdown",
   "id": "0b4beff1",
   "metadata": {},
   "source": [
    "## Plotting the Chi-Square Values"
   ]
  },
  {
   "cell_type": "code",
   "execution_count": 13,
   "id": "4fc39224",
   "metadata": {},
   "outputs": [
    {
     "data": {
      "text/plain": [
       "<AxesSubplot:>"
      ]
     },
     "execution_count": 13,
     "metadata": {},
     "output_type": "execute_result"
    },
    {
     "data": {
      "image/png": "[encoded data removed]",
      "text/plain": [
       "<Figure size 432x288 with 1 Axes>"
      ]
     },
     "metadata": {
      "needs_background": "light"
     },
     "output_type": "display_data"
    }
   ],
   "source": [
    "ch_values = pd.Series(chi_scores[0],index = X.columns)\n",
    "ch_values.sort_values(ascending = False , inplace = True)\n",
    "ch_values.plot.bar()"
   ]
  },
  {
   "cell_type": "markdown",
   "id": "88f39c77",
   "metadata": {},
   "source": [
    "## Heatmap for all features\n",
    "This shows the positive and negative correlations and helps us identify important features."
   ]
  },
  {
   "cell_type": "code",
   "execution_count": 14,
   "id": "eb7bfbb3",
   "metadata": {},
   "outputs": [
    {
     "data": {
      "image/png": "[encoded data removed]",
      "text/plain": [
       "<Figure size 864x720 with 2 Axes>"
      ]
     },
     "metadata": {
      "needs_background": "light"
     },
     "output_type": "display_data"
    }
   ],
   "source": [
    "plt.figure(figsize=(12,10))\n",
    "correlation = df.corr()\n",
    "sns.heatmap(correlation, annot=True, cmap=plt.cm.Blues)\n",
    "plt.show()"
   ]
  },
  {
   "cell_type": "code",
   "execution_count": 15,
   "id": "0b21ab79",
   "metadata": {},
   "outputs": [
    {
     "data": {
      "text/plain": [
       "no_rent_change        0.137282\n",
       "rent_change_10        0.024754\n",
       "rent_change_20        0.127915\n",
       "lease_length_2        0.085821\n",
       "lease_length_3        0.018795\n",
       "lease_length_1        0.089716\n",
       "age_range_under_24    0.051494\n",
       "age_range_24_29       0.007290\n",
       "age_range_30_39       0.065303\n",
       "age_range_40_49       0.025985\n",
       "age_range_50_59       0.013378\n",
       "age_range_60          0.024027\n",
       "NoFinesViolations     0.128865\n",
       "PositiveSurvey        0.023828\n",
       "LatePayments          0.061214\n",
       "HOA_mandatory         0.086500\n",
       "Renewed               1.000000\n",
       "Name: Renewed, dtype: float64"
      ]
     },
     "execution_count": 15,
     "metadata": {},
     "output_type": "execute_result"
    }
   ],
   "source": [
    "# First all the Features\n",
    "correlation_target = abs(correlation[\"Renewed\"])\n",
    "correlation_target"
   ]
  },
  {
   "cell_type": "code",
   "execution_count": 16,
   "id": "4dfbee80",
   "metadata": {},
   "outputs": [
    {
     "data": {
      "text/plain": [
       "no_rent_change       0.137282\n",
       "rent_change_20       0.127915\n",
       "lease_length_2       0.085821\n",
       "lease_length_1       0.089716\n",
       "NoFinesViolations    0.128865\n",
       "HOA_mandatory        0.086500\n",
       "Renewed              1.000000\n",
       "Name: Renewed, dtype: float64"
      ]
     },
     "execution_count": 16,
     "metadata": {},
     "output_type": "execute_result"
    }
   ],
   "source": [
    "## Identify  the Highly Correlated Features\n",
    "relevant_features = correlation_target[correlation_target>0.08]\n",
    "relevant_features"
   ]
  },
  {
   "cell_type": "markdown",
   "id": "8e93f82d",
   "metadata": {},
   "source": [
    "## From Here we can Decide what Features are important for the business when making desisons about people who might or might not resign thier lease."
   ]
  },
  {
   "cell_type": "markdown",
   "id": "e86f78f0",
   "metadata": {},
   "source": [
    "# Part II:\n",
    "\n",
    "Assuming the business is interested in predicting resident renewal, use the dataset to create a renewal likelihood prediction model. Please include supporting work to determine and demonstrate how effective is the prediction model.\n",
    "\n",
    "Steps\n",
    "\n",
    "- collect data\n",
    "- clean data\n",
    "- data analysis\n",
    "- build predictive model \n",
    "- validate the model\n",
    "- deploy and monitor the model"
   ]
  },
  {
   "cell_type": "markdown",
   "id": "1d012338",
   "metadata": {},
   "source": [
    "## Load the Data and Remove features\n",
    "\n",
    "The removal of features prevents overfitting and makes our data less noisy. "
   ]
  },
  {
   "cell_type": "code",
   "execution_count": 17,
   "id": "a7cc453f",
   "metadata": {},
   "outputs": [
    {
     "data": {
      "text/html": [
       "<div>\n",
       "<style scoped>\n",
       "    .dataframe tbody tr th:only-of-type {\n",
       "        vertical-align: middle;\n",
       "    }\n",
       "\n",
       "    .dataframe tbody tr th {\n",
       "        vertical-align: top;\n",
       "    }\n",
       "\n",
       "    .dataframe thead th {\n",
       "        text-align: right;\n",
       "    }\n",
       "</style>\n",
       "<table border=\"1\" class=\"dataframe\">\n",
       "  <thead>\n",
       "    <tr style=\"text-align: right;\">\n",
       "      <th></th>\n",
       "      <th>no_rent_change</th>\n",
       "      <th>rent_change_10</th>\n",
       "      <th>rent_change_20</th>\n",
       "      <th>lease_length_2</th>\n",
       "      <th>lease_length_3</th>\n",
       "      <th>lease_length_1</th>\n",
       "      <th>age_range_under_24</th>\n",
       "      <th>age_range_30_39</th>\n",
       "      <th>age_range_40_49</th>\n",
       "      <th>age_range_50_59</th>\n",
       "      <th>age_range_60</th>\n",
       "      <th>NoFinesViolations</th>\n",
       "      <th>PositiveSurvey</th>\n",
       "      <th>LatePayments</th>\n",
       "      <th>HOA_mandatory</th>\n",
       "      <th>Renewed</th>\n",
       "    </tr>\n",
       "  </thead>\n",
       "  <tbody>\n",
       "    <tr>\n",
       "      <th>0</th>\n",
       "      <td>0</td>\n",
       "      <td>0</td>\n",
       "      <td>0</td>\n",
       "      <td>0</td>\n",
       "      <td>0</td>\n",
       "      <td>0</td>\n",
       "      <td>0</td>\n",
       "      <td>0</td>\n",
       "      <td>0</td>\n",
       "      <td>0</td>\n",
       "      <td>0</td>\n",
       "      <td>0</td>\n",
       "      <td>1</td>\n",
       "      <td>1</td>\n",
       "      <td>0</td>\n",
       "      <td>1</td>\n",
       "    </tr>\n",
       "    <tr>\n",
       "      <th>1</th>\n",
       "      <td>0</td>\n",
       "      <td>0</td>\n",
       "      <td>0</td>\n",
       "      <td>0</td>\n",
       "      <td>0</td>\n",
       "      <td>0</td>\n",
       "      <td>0</td>\n",
       "      <td>0</td>\n",
       "      <td>0</td>\n",
       "      <td>0</td>\n",
       "      <td>0</td>\n",
       "      <td>0</td>\n",
       "      <td>0</td>\n",
       "      <td>0</td>\n",
       "      <td>0</td>\n",
       "      <td>0</td>\n",
       "    </tr>\n",
       "    <tr>\n",
       "      <th>2</th>\n",
       "      <td>0</td>\n",
       "      <td>0</td>\n",
       "      <td>0</td>\n",
       "      <td>0</td>\n",
       "      <td>0</td>\n",
       "      <td>0</td>\n",
       "      <td>0</td>\n",
       "      <td>0</td>\n",
       "      <td>0</td>\n",
       "      <td>0</td>\n",
       "      <td>0</td>\n",
       "      <td>0</td>\n",
       "      <td>1</td>\n",
       "      <td>0</td>\n",
       "      <td>0</td>\n",
       "      <td>0</td>\n",
       "    </tr>\n",
       "    <tr>\n",
       "      <th>3</th>\n",
       "      <td>0</td>\n",
       "      <td>0</td>\n",
       "      <td>0</td>\n",
       "      <td>0</td>\n",
       "      <td>0</td>\n",
       "      <td>0</td>\n",
       "      <td>0</td>\n",
       "      <td>0</td>\n",
       "      <td>0</td>\n",
       "      <td>0</td>\n",
       "      <td>0</td>\n",
       "      <td>0</td>\n",
       "      <td>1</td>\n",
       "      <td>1</td>\n",
       "      <td>0</td>\n",
       "      <td>0</td>\n",
       "    </tr>\n",
       "    <tr>\n",
       "      <th>4</th>\n",
       "      <td>0</td>\n",
       "      <td>0</td>\n",
       "      <td>0</td>\n",
       "      <td>0</td>\n",
       "      <td>0</td>\n",
       "      <td>0</td>\n",
       "      <td>0</td>\n",
       "      <td>0</td>\n",
       "      <td>0</td>\n",
       "      <td>0</td>\n",
       "      <td>0</td>\n",
       "      <td>0</td>\n",
       "      <td>0</td>\n",
       "      <td>0</td>\n",
       "      <td>0</td>\n",
       "      <td>0</td>\n",
       "    </tr>\n",
       "  </tbody>\n",
       "</table>\n",
       "</div>"
      ],
      "text/plain": [
       "   no_rent_change  rent_change_10  rent_change_20  lease_length_2  \\\n",
       "0               0               0               0               0   \n",
       "1               0               0               0               0   \n",
       "2               0               0               0               0   \n",
       "3               0               0               0               0   \n",
       "4               0               0               0               0   \n",
       "\n",
       "   lease_length_3  lease_length_1  age_range_under_24  age_range_30_39  \\\n",
       "0               0               0                   0                0   \n",
       "1               0               0                   0                0   \n",
       "2               0               0                   0                0   \n",
       "3               0               0                   0                0   \n",
       "4               0               0                   0                0   \n",
       "\n",
       "   age_range_40_49  age_range_50_59  age_range_60  NoFinesViolations  \\\n",
       "0                0                0             0                  0   \n",
       "1                0                0             0                  0   \n",
       "2                0                0             0                  0   \n",
       "3                0                0             0                  0   \n",
       "4                0                0             0                  0   \n",
       "\n",
       "   PositiveSurvey  LatePayments  HOA_mandatory  Renewed  \n",
       "0               1             1              0        1  \n",
       "1               0             0              0        0  \n",
       "2               1             0              0        0  \n",
       "3               1             1              0        0  \n",
       "4               0             0              0        0  "
      ]
     },
     "execution_count": 17,
     "metadata": {},
     "output_type": "execute_result"
    }
   ],
   "source": [
    "## Remove lease_id and age_range_24_29 from our data\n",
    "\n",
    "df = df.drop(columns = [\"lease_id\",\"age_range_24_29\"])\n",
    "df.head()"
   ]
  },
  {
   "cell_type": "code",
   "execution_count": 18,
   "id": "9f72fcfb",
   "metadata": {},
   "outputs": [
    {
     "name": "stdout",
     "output_type": "stream",
     "text": [
      "no_rent_change\n",
      "rent_change_10\n",
      "rent_change_20\n",
      "lease_length_2\n",
      "lease_length_3\n",
      "lease_length_1\n",
      "age_range_under_24\n",
      "age_range_30_39\n",
      "age_range_40_49\n",
      "age_range_50_59\n"
     ]
    }
   ],
   "source": [
    "for i in range(10):\n",
    "    print(df.columns[i])"
   ]
  },
  {
   "cell_type": "markdown",
   "id": "486ed85a",
   "metadata": {},
   "source": [
    "## Split Attributes\n",
    "\n",
    "- X will the feature columns\n",
    "- y will be predictor *Renewed* Column"
   ]
  },
  {
   "cell_type": "code",
   "execution_count": 19,
   "id": "9135ac79",
   "metadata": {},
   "outputs": [
    {
     "data": {
      "text/plain": [
       "0        1\n",
       "1        0\n",
       "2        0\n",
       "3        0\n",
       "4        0\n",
       "        ..\n",
       "79845    0\n",
       "79846    0\n",
       "79847    0\n",
       "79848    1\n",
       "79849    0\n",
       "Name: Renewed, Length: 79850, dtype: int64"
      ]
     },
     "execution_count": 19,
     "metadata": {},
     "output_type": "execute_result"
    }
   ],
   "source": [
    "y = df[\"Renewed\"]\n",
    "y"
   ]
  },
  {
   "cell_type": "code",
   "execution_count": 20,
   "id": "60686c8b",
   "metadata": {},
   "outputs": [
    {
     "data": {
      "text/html": [
       "<div>\n",
       "<style scoped>\n",
       "    .dataframe tbody tr th:only-of-type {\n",
       "        vertical-align: middle;\n",
       "    }\n",
       "\n",
       "    .dataframe tbody tr th {\n",
       "        vertical-align: top;\n",
       "    }\n",
       "\n",
       "    .dataframe thead th {\n",
       "        text-align: right;\n",
       "    }\n",
       "</style>\n",
       "<table border=\"1\" class=\"dataframe\">\n",
       "  <thead>\n",
       "    <tr style=\"text-align: right;\">\n",
       "      <th></th>\n",
       "      <th>no_rent_change</th>\n",
       "      <th>rent_change_10</th>\n",
       "      <th>rent_change_20</th>\n",
       "      <th>lease_length_2</th>\n",
       "      <th>lease_length_3</th>\n",
       "      <th>lease_length_1</th>\n",
       "      <th>age_range_under_24</th>\n",
       "      <th>age_range_30_39</th>\n",
       "      <th>age_range_40_49</th>\n",
       "      <th>age_range_50_59</th>\n",
       "      <th>age_range_60</th>\n",
       "      <th>NoFinesViolations</th>\n",
       "      <th>PositiveSurvey</th>\n",
       "      <th>LatePayments</th>\n",
       "      <th>HOA_mandatory</th>\n",
       "    </tr>\n",
       "  </thead>\n",
       "  <tbody>\n",
       "    <tr>\n",
       "      <th>0</th>\n",
       "      <td>0</td>\n",
       "      <td>0</td>\n",
       "      <td>0</td>\n",
       "      <td>0</td>\n",
       "      <td>0</td>\n",
       "      <td>0</td>\n",
       "      <td>0</td>\n",
       "      <td>0</td>\n",
       "      <td>0</td>\n",
       "      <td>0</td>\n",
       "      <td>0</td>\n",
       "      <td>0</td>\n",
       "      <td>1</td>\n",
       "      <td>1</td>\n",
       "      <td>0</td>\n",
       "    </tr>\n",
       "    <tr>\n",
       "      <th>1</th>\n",
       "      <td>0</td>\n",
       "      <td>0</td>\n",
       "      <td>0</td>\n",
       "      <td>0</td>\n",
       "      <td>0</td>\n",
       "      <td>0</td>\n",
       "      <td>0</td>\n",
       "      <td>0</td>\n",
       "      <td>0</td>\n",
       "      <td>0</td>\n",
       "      <td>0</td>\n",
       "      <td>0</td>\n",
       "      <td>0</td>\n",
       "      <td>0</td>\n",
       "      <td>0</td>\n",
       "    </tr>\n",
       "    <tr>\n",
       "      <th>2</th>\n",
       "      <td>0</td>\n",
       "      <td>0</td>\n",
       "      <td>0</td>\n",
       "      <td>0</td>\n",
       "      <td>0</td>\n",
       "      <td>0</td>\n",
       "      <td>0</td>\n",
       "      <td>0</td>\n",
       "      <td>0</td>\n",
       "      <td>0</td>\n",
       "      <td>0</td>\n",
       "      <td>0</td>\n",
       "      <td>1</td>\n",
       "      <td>0</td>\n",
       "      <td>0</td>\n",
       "    </tr>\n",
       "    <tr>\n",
       "      <th>3</th>\n",
       "      <td>0</td>\n",
       "      <td>0</td>\n",
       "      <td>0</td>\n",
       "      <td>0</td>\n",
       "      <td>0</td>\n",
       "      <td>0</td>\n",
       "      <td>0</td>\n",
       "      <td>0</td>\n",
       "      <td>0</td>\n",
       "      <td>0</td>\n",
       "      <td>0</td>\n",
       "      <td>0</td>\n",
       "      <td>1</td>\n",
       "      <td>1</td>\n",
       "      <td>0</td>\n",
       "    </tr>\n",
       "    <tr>\n",
       "      <th>4</th>\n",
       "      <td>0</td>\n",
       "      <td>0</td>\n",
       "      <td>0</td>\n",
       "      <td>0</td>\n",
       "      <td>0</td>\n",
       "      <td>0</td>\n",
       "      <td>0</td>\n",
       "      <td>0</td>\n",
       "      <td>0</td>\n",
       "      <td>0</td>\n",
       "      <td>0</td>\n",
       "      <td>0</td>\n",
       "      <td>0</td>\n",
       "      <td>0</td>\n",
       "      <td>0</td>\n",
       "    </tr>\n",
       "  </tbody>\n",
       "</table>\n",
       "</div>"
      ],
      "text/plain": [
       "   no_rent_change  rent_change_10  rent_change_20  lease_length_2  \\\n",
       "0               0               0               0               0   \n",
       "1               0               0               0               0   \n",
       "2               0               0               0               0   \n",
       "3               0               0               0               0   \n",
       "4               0               0               0               0   \n",
       "\n",
       "   lease_length_3  lease_length_1  age_range_under_24  age_range_30_39  \\\n",
       "0               0               0                   0                0   \n",
       "1               0               0                   0                0   \n",
       "2               0               0                   0                0   \n",
       "3               0               0                   0                0   \n",
       "4               0               0                   0                0   \n",
       "\n",
       "   age_range_40_49  age_range_50_59  age_range_60  NoFinesViolations  \\\n",
       "0                0                0             0                  0   \n",
       "1                0                0             0                  0   \n",
       "2                0                0             0                  0   \n",
       "3                0                0             0                  0   \n",
       "4                0                0             0                  0   \n",
       "\n",
       "   PositiveSurvey  LatePayments  HOA_mandatory  \n",
       "0               1             1              0  \n",
       "1               0             0              0  \n",
       "2               1             0              0  \n",
       "3               1             1              0  \n",
       "4               0             0              0  "
      ]
     },
     "execution_count": 20,
     "metadata": {},
     "output_type": "execute_result"
    }
   ],
   "source": [
    "# since Renewed is assigned to y, we can remove it from the featured columns (X)\n",
    "\n",
    "df= df.drop(columns = [\"Renewed\"])\n",
    "df.head()"
   ]
  },
  {
   "cell_type": "code",
   "execution_count": 21,
   "id": "35c1aee4",
   "metadata": {},
   "outputs": [],
   "source": [
    "X=df"
   ]
  },
  {
   "cell_type": "markdown",
   "id": "1dfadcc2",
   "metadata": {},
   "source": [
    "## Split the data into 70% and 30% Training and Testing sets, respectively"
   ]
  },
  {
   "cell_type": "code",
   "execution_count": 22,
   "id": "bfe372d5",
   "metadata": {},
   "outputs": [],
   "source": [
    "from sklearn.model_selection import train_test_split"
   ]
  },
  {
   "cell_type": "code",
   "execution_count": 23,
   "id": "31303584",
   "metadata": {},
   "outputs": [],
   "source": [
    " X_train, X_test, y_train, y_test = train_test_split(X, y, test_size=0.3, random_state=1) "
   ]
  },
  {
   "cell_type": "code",
   "execution_count": 24,
   "id": "d86dd1e4",
   "metadata": {},
   "outputs": [
    {
     "name": "stdout",
     "output_type": "stream",
     "text": [
      "(55895, 15) (23955, 15) (55895,) (23955,)\n"
     ]
    }
   ],
   "source": [
    "print(X_train.shape, X_test.shape, y_train.shape, y_test.shape)"
   ]
  },
  {
   "cell_type": "markdown",
   "id": "ce1530ea",
   "metadata": {},
   "source": [
    "# Machine Learning Algorithms"
   ]
  },
  {
   "cell_type": "markdown",
   "id": "8668be41",
   "metadata": {},
   "source": [
    "## K-Nearest Neighbors"
   ]
  },
  {
   "cell_type": "code",
   "execution_count": 25,
   "id": "eca2e2d1",
   "metadata": {},
   "outputs": [],
   "source": [
    "from sklearn.neighbors import KNeighborsClassifier\n",
    "\n",
    "knn = KNeighborsClassifier(n_neighbors = 1)\n",
    "\n",
    "knn.fit(X_train, y_train)\n",
    "\n",
    "prediction = knn.predict(X_test)"
   ]
  },
  {
   "cell_type": "markdown",
   "id": "3e59768f",
   "metadata": {},
   "source": [
    "Evalute the K-Nearest Nieghbor Model"
   ]
  },
  {
   "cell_type": "code",
   "execution_count": 26,
   "id": "f210dad8",
   "metadata": {},
   "outputs": [
    {
     "name": "stdout",
     "output_type": "stream",
     "text": [
      "[[17126  2150]\n",
      " [ 3785   894]]\n"
     ]
    }
   ],
   "source": [
    "from sklearn.metrics import classification_report, confusion_matrix\n",
    "print(confusion_matrix(y_test, prediction))"
   ]
  },
  {
   "cell_type": "markdown",
   "id": "09855acb",
   "metadata": {},
   "source": [
    "This confusion matrix tells us that there were 17126 True positive, 2150 False positives, 3785 false negatives, and 894 true negatives. \n",
    "\n",
    "Next, we will find the accuracy score which is the fraction of samples predicted correctly. "
   ]
  },
  {
   "cell_type": "code",
   "execution_count": 27,
   "id": "7f24253a",
   "metadata": {},
   "outputs": [
    {
     "name": "stdout",
     "output_type": "stream",
     "text": [
      "Accuracy: 0.7522437904404091\n"
     ]
    }
   ],
   "source": [
    "import sklearn.metrics as metrics\n",
    "print(\"Accuracy:\",metrics.accuracy_score(y_test, prediction))"
   ]
  },
  {
   "cell_type": "markdown",
   "id": "106fa015",
   "metadata": {},
   "source": [
    "The result is that our model is 75% accurate. Let's see if we can improve this with other methods. "
   ]
  },
  {
   "cell_type": "markdown",
   "id": "09169628",
   "metadata": {},
   "source": [
    "## Decision Tree Classifier"
   ]
  },
  {
   "cell_type": "code",
   "execution_count": 31,
   "id": "a8e62edd",
   "metadata": {},
   "outputs": [],
   "source": [
    "from sklearn.tree import DecisionTreeClassifier \n",
    "from sklearn.metrics import accuracy_score, mean_squared_error, r2_score"
   ]
  },
  {
   "cell_type": "code",
   "execution_count": 32,
   "id": "d7e1f380",
   "metadata": {},
   "outputs": [],
   "source": [
    "classifier = DecisionTreeClassifier()\n",
    "## train our data on the model\n",
    "classifier = classifier.fit(X_train,y_train)\n",
    "\n",
    "## test our Model\n",
    "y_pred = classifier.predict(X_test)"
   ]
  },
  {
   "cell_type": "code",
   "execution_count": 33,
   "id": "09e3ee27",
   "metadata": {},
   "outputs": [
    {
     "data": {
      "text/plain": [
       "array([0, 0, 0, ..., 0, 0, 0], dtype=int64)"
      ]
     },
     "execution_count": 33,
     "metadata": {},
     "output_type": "execute_result"
    }
   ],
   "source": [
    "y_pred"
   ]
  },
  {
   "cell_type": "code",
   "execution_count": 34,
   "id": "ff3cd44d",
   "metadata": {},
   "outputs": [
    {
     "name": "stdout",
     "output_type": "stream",
     "text": [
      "Accuracy: 0.8040910039657692\n"
     ]
    }
   ],
   "source": [
    "print(\"Accuracy:\",metrics.accuracy_score(y_test, y_pred))"
   ]
  },
  {
   "cell_type": "markdown",
   "id": "44f2291a",
   "metadata": {},
   "source": [
    "Using the decision tree classifier, the model had a 80% accuracy. This was a almost a 5% improvement over KNN. "
   ]
  },
  {
   "cell_type": "markdown",
   "id": "7b56b37a",
   "metadata": {},
   "source": [
    "# Important Features"
   ]
  },
  {
   "cell_type": "code",
   "execution_count": 35,
   "id": "a20c4c92",
   "metadata": {},
   "outputs": [],
   "source": [
    "importance = classifier.feature_importances_"
   ]
  },
  {
   "cell_type": "code",
   "execution_count": 36,
   "id": "81297181",
   "metadata": {},
   "outputs": [
    {
     "name": "stdout",
     "output_type": "stream",
     "text": [
      "Features - Coefficients: \n",
      "---------------------------\n",
      "no_rent_change :  0.23932829265103417\n",
      "rent_change_10 :  0.026151881388576166\n",
      "rent_change_20 :  0.02480910822467596\n",
      "lease_length_2 :  0.02948409937327221\n",
      "lease_length_3 :  0.021775562228579456\n",
      "lease_length_1 :  0.07593784455024945\n",
      "age_range_under_24 :  0.020893930524125453\n",
      "age_range_30_39 :  0.06481351806508957\n",
      "age_range_40_49 :  0.027155282461879628\n",
      "age_range_50_59 :  0.020479494894586205\n",
      "age_range_60 :  0.017281117195061056\n",
      "NoFinesViolations :  0.23124712473009262\n",
      "PositiveSurvey :  0.05119379544804331\n",
      "LatePayments :  0.057459641520266155\n",
      "HOA_mandatory :  0.09198930674446862\n"
     ]
    }
   ],
   "source": [
    "print(\"Features - Coefficients: \")\n",
    "print(\"---------------------------\")\n",
    "\n",
    "for i in range(len(importance)):\n",
    "    print(df.columns[i], \": \", importance[i])"
   ]
  },
  {
   "cell_type": "code",
   "execution_count": 37,
   "id": "53d38063",
   "metadata": {},
   "outputs": [
    {
     "data": {
      "image/png": "[encoded data removed]",
      "text/plain": [
       "<Figure size 432x288 with 1 Axes>"
      ]
     },
     "metadata": {
      "needs_background": "light"
     },
     "output_type": "display_data"
    }
   ],
   "source": [
    "plt.bar([x for x in range(len(importance))], importance)\n",
    "plt.title(\"Feature Importance using Decision Tree\")\n",
    "plt.show()"
   ]
  },
  {
   "cell_type": "markdown",
   "id": "9c608baa",
   "metadata": {},
   "source": [
    "Conclusion: Most important features were: \n",
    "- no_rent_change: 0.2393\n",
    "- NoFinesViolation: 0.231247"
   ]
  },
  {
   "cell_type": "markdown",
   "id": "fbc2a5d3",
   "metadata": {},
   "source": [
    "## Let's check another model: Logistic Regresion"
   ]
  },
  {
   "cell_type": "code",
   "execution_count": 38,
   "id": "d226fccb",
   "metadata": {},
   "outputs": [],
   "source": [
    "from sklearn.linear_model import LogisticRegression\n",
    "import sklearn.linear_model as sk"
   ]
  },
  {
   "cell_type": "code",
   "execution_count": 39,
   "id": "d964aebf",
   "metadata": {},
   "outputs": [
    {
     "data": {
      "text/plain": [
       "LogisticRegression()"
      ]
     },
     "execution_count": 39,
     "metadata": {},
     "output_type": "execute_result"
    }
   ],
   "source": [
    "regression = LogisticRegression()\n",
    "regression.fit(X_train, y_train)"
   ]
  },
  {
   "cell_type": "code",
   "execution_count": 40,
   "id": "26cf7e49",
   "metadata": {},
   "outputs": [
    {
     "data": {
      "text/plain": [
       "array([0, 0, 0, ..., 0, 0, 0], dtype=int64)"
      ]
     },
     "execution_count": 40,
     "metadata": {},
     "output_type": "execute_result"
    }
   ],
   "source": [
    "prediction = regression.predict(X_test)\n",
    "prediction"
   ]
  },
  {
   "cell_type": "code",
   "execution_count": 41,
   "id": "94da6b3f",
   "metadata": {},
   "outputs": [
    {
     "name": "stdout",
     "output_type": "stream",
     "text": [
      "Accuracy: 0.8047171780421624\n"
     ]
    }
   ],
   "source": [
    "print(\"Accuracy:\",metrics.accuracy_score(y_test, prediction))"
   ]
  },
  {
   "cell_type": "markdown",
   "id": "f4dad0ac",
   "metadata": {},
   "source": [
    "## XGBoost"
   ]
  },
  {
   "cell_type": "code",
   "execution_count": 42,
   "id": "ea5e3c87",
   "metadata": {},
   "outputs": [],
   "source": [
    "import xgboost as xgb\n",
    "from sklearn.model_selection import GridSearchCV\n",
    "from sklearn.metrics import confusion_matrix\n",
    "from sklearn.metrics import plot_confusion_matrix"
   ]
  },
  {
   "cell_type": "code",
   "execution_count": 43,
   "id": "3aea7c40",
   "metadata": {},
   "outputs": [
    {
     "data": {
      "text/plain": [
       "no_rent_change        int64\n",
       "rent_change_10        int64\n",
       "rent_change_20        int64\n",
       "lease_length_2        int64\n",
       "lease_length_3        int64\n",
       "lease_length_1        int64\n",
       "age_range_under_24    int64\n",
       "age_range_30_39       int64\n",
       "age_range_40_49       int64\n",
       "age_range_50_59       int64\n",
       "age_range_60          int64\n",
       "NoFinesViolations     int64\n",
       "PositiveSurvey        int64\n",
       "LatePayments          int64\n",
       "HOA_mandatory         int64\n",
       "dtype: object"
      ]
     },
     "execution_count": 43,
     "metadata": {},
     "output_type": "execute_result"
    }
   ],
   "source": [
    "df.dtypes"
   ]
  },
  {
   "cell_type": "code",
   "execution_count": 44,
   "id": "3dcea25a",
   "metadata": {},
   "outputs": [
    {
     "data": {
      "text/plain": [
       "0.19589229805886035"
      ]
     },
     "execution_count": 44,
     "metadata": {},
     "output_type": "execute_result"
    }
   ],
   "source": [
    "sum(y)/len(y)"
   ]
  },
  {
   "cell_type": "markdown",
   "id": "2d8a3504",
   "metadata": {},
   "source": [
    "Use stratification in order to maintain the same percentage of people who didn't renew in both the training and testing set. "
   ]
  },
  {
   "cell_type": "code",
   "execution_count": 45,
   "id": "5f45704d",
   "metadata": {},
   "outputs": [],
   "source": [
    " X_train, X_test, y_train, y_test = train_test_split(X, y, test_size=0.3, random_state=1, stratify=y) "
   ]
  },
  {
   "cell_type": "code",
   "execution_count": 46,
   "id": "00d2e9f3",
   "metadata": {
    "scrolled": true
   },
   "outputs": [
    {
     "data": {
      "text/plain": [
       "0.1958851417837016"
      ]
     },
     "execution_count": 46,
     "metadata": {},
     "output_type": "execute_result"
    }
   ],
   "source": [
    "sum(y_train)/len(y_train)"
   ]
  },
  {
   "cell_type": "code",
   "execution_count": 47,
   "id": "2d5f4a5d",
   "metadata": {},
   "outputs": [
    {
     "data": {
      "text/plain": [
       "0.19590899603423084"
      ]
     },
     "execution_count": 47,
     "metadata": {},
     "output_type": "execute_result"
    }
   ],
   "source": [
    "sum(y_test)/len(y_test)"
   ]
  },
  {
   "cell_type": "code",
   "execution_count": 48,
   "id": "08a400be",
   "metadata": {},
   "outputs": [
    {
     "name": "stdout",
     "output_type": "stream",
     "text": [
      "[0]\tvalidation_0-aucpr:0.31041\n",
      "[1]\tvalidation_0-aucpr:0.31148\n",
      "[2]\tvalidation_0-aucpr:0.31187\n",
      "[3]\tvalidation_0-aucpr:0.31283\n",
      "[4]\tvalidation_0-aucpr:0.31315\n",
      "[5]\tvalidation_0-aucpr:0.31388\n",
      "[6]\tvalidation_0-aucpr:0.31444\n"
     ]
    },
    {
     "name": "stderr",
     "output_type": "stream",
     "text": [
      "C:\\Users\\muher\\Anaconda3\\lib\\site-packages\\xgboost\\sklearn.py:1224: UserWarning: The use of label encoder in XGBClassifier is deprecated and will be removed in a future release. To remove this warning, do the following: 1) Pass option use_label_encoder=False when constructing XGBClassifier object; and 2) Encode your labels (y) as integers starting with 0, i.e. 0, 1, 2, ..., [num_class - 1].\n",
      "  warnings.warn(label_encoder_deprecation_msg, UserWarning)\n"
     ]
    },
    {
     "name": "stdout",
     "output_type": "stream",
     "text": [
      "[7]\tvalidation_0-aucpr:0.31428\n",
      "[8]\tvalidation_0-aucpr:0.31494\n",
      "[9]\tvalidation_0-aucpr:0.31478\n",
      "[10]\tvalidation_0-aucpr:0.31463\n",
      "[11]\tvalidation_0-aucpr:0.31455\n",
      "[12]\tvalidation_0-aucpr:0.31501\n",
      "[13]\tvalidation_0-aucpr:0.31498\n",
      "[14]\tvalidation_0-aucpr:0.31542\n",
      "[15]\tvalidation_0-aucpr:0.31497\n",
      "[16]\tvalidation_0-aucpr:0.31544\n",
      "[17]\tvalidation_0-aucpr:0.31550\n",
      "[18]\tvalidation_0-aucpr:0.31578\n",
      "[19]\tvalidation_0-aucpr:0.31543\n",
      "[20]\tvalidation_0-aucpr:0.31499\n",
      "[21]\tvalidation_0-aucpr:0.31496\n",
      "[22]\tvalidation_0-aucpr:0.31494\n",
      "[23]\tvalidation_0-aucpr:0.31510\n",
      "[24]\tvalidation_0-aucpr:0.31460\n",
      "[25]\tvalidation_0-aucpr:0.31470\n",
      "[26]\tvalidation_0-aucpr:0.31436\n",
      "[27]\tvalidation_0-aucpr:0.31436\n",
      "[28]\tvalidation_0-aucpr:0.31425\n"
     ]
    },
    {
     "data": {
      "text/plain": [
       "XGBClassifier(base_score=0.5, booster='gbtree', colsample_bylevel=1,\n",
       "              colsample_bynode=1, colsample_bytree=1, enable_categorical=False,\n",
       "              gamma=0, gpu_id=-1, importance_type=None,\n",
       "              interaction_constraints='', learning_rate=0.300000012,\n",
       "              max_delta_step=0, max_depth=6, min_child_weight=1, missing=1,\n",
       "              monotone_constraints='()', n_estimators=100, n_jobs=8,\n",
       "              num_parallel_tree=1, predictor='auto', random_state=1,\n",
       "              reg_alpha=0, reg_lambda=1, scale_pos_weight=1, seed=1,\n",
       "              subsample=1, tree_method='exact', validate_parameters=1,\n",
       "              verbosity=None)"
      ]
     },
     "execution_count": 48,
     "metadata": {},
     "output_type": "execute_result"
    }
   ],
   "source": [
    "from xgboost import XGBClassifier\n",
    "clf_xgb=XGBClassifier(objective='binary:logistic', missing=1, seed=1)\n",
    "clf_xgb.fit(X_train, y_train, verbose=True, early_stopping_rounds=10, eval_metric='aucpr', eval_set=[(X_test, y_test)])"
   ]
  },
  {
   "cell_type": "code",
   "execution_count": 49,
   "id": "a4e11d42",
   "metadata": {},
   "outputs": [
    {
     "name": "stderr",
     "output_type": "stream",
     "text": [
      "C:\\Users\\muher\\Anaconda3\\lib\\site-packages\\sklearn\\utils\\deprecation.py:87: FutureWarning: Function plot_confusion_matrix is deprecated; Function `plot_confusion_matrix` is deprecated in 1.0 and will be removed in 1.2. Use one of the class methods: ConfusionMatrixDisplay.from_predictions or ConfusionMatrixDisplay.from_estimator.\n",
      "  warnings.warn(msg, category=FutureWarning)\n"
     ]
    },
    {
     "data": {
      "text/plain": [
       "<sklearn.metrics._plot.confusion_matrix.ConfusionMatrixDisplay at 0x1d9f9815eb0>"
      ]
     },
     "execution_count": 49,
     "metadata": {},
     "output_type": "execute_result"
    },
    {
     "data": {
      "image/png": "[encoded data removed]",
      "text/plain": [
       "<Figure size 432x288 with 2 Axes>"
      ]
     },
     "metadata": {
      "needs_background": "light"
     },
     "output_type": "display_data"
    }
   ],
   "source": [
    "plot_confusion_matrix(clf_xgb, X_test, y_test, values_format='d', display_labels=['Did Not Renew', 'Renewed'])"
   ]
  },
  {
   "cell_type": "markdown",
   "id": "344cd5a9",
   "metadata": {},
   "source": [
    "In this confusion matrix, we see that out of 19,262 that did not renew 99% were correctly classified. Of that 4693 that did renew, 3% were correctly classified. So this result is poor due to the fact that data is imbalanced. To fix this, we will use cross-validation to optimize the parameters."
   ]
  },
  {
   "cell_type": "markdown",
   "id": "9bed911b",
   "metadata": {},
   "source": [
    "## Optimizing Parameters using Cross Validation and GridSearch() \n",
    "XGBoost has many hyperparameters that require manual configuration, including max_depth, learning_rate, gamma, reg_lambda. So our first step is to find the potential values that will hopefuly improve the model. "
   ]
  },
  {
   "cell_type": "code",
   "execution_count": 51,
   "id": "1ca26766",
   "metadata": {},
   "outputs": [],
   "source": [
    "## Round 1\n",
    "param_grid={\n",
    "    'max_depth':[3,4,5],\n",
    "    'learning_rate':[0.1, 0.01, 0.05],\n",
    "    'gamma':[0,0.25, 1.0],\n",
    "    'reg_lambda':[0, 1.0, 10.0],\n",
    "    'scale_pos_weight':[1,3,5]\n",
    "}"
   ]
  },
  {
   "cell_type": "code",
   "execution_count": 52,
   "id": "7cc9ba3e",
   "metadata": {},
   "outputs": [],
   "source": [
    "## Round 2\n",
    "param_grid={\n",
    "    'max_depth':[4],\n",
    "    'learning_rate':[0.1, 0.01, 0.05],\n",
    "    'gamma':[0.25],\n",
    "    'reg_lambda':[10,20,100],\n",
    "    'scale_pos_weight':[3]\n",
    "}"
   ]
  },
  {
   "cell_type": "code",
   "execution_count": 53,
   "id": "d997b5bd",
   "metadata": {},
   "outputs": [],
   "source": [
    "optimal_params=GridSearchCV(estimator=xgb.XGBClassifier(objective='binary:logistic',seed=1, subsample=0.9, colsample_bytree=0.5),\n",
    "param_grid=param_grid, scoring='roc_auc', verbose=0, n_jobs=10, cv=10)"
   ]
  },
  {
   "cell_type": "code",
   "execution_count": 54,
   "id": "2723171f",
   "metadata": {},
   "outputs": [
    {
     "data": {
      "text/plain": [
       "GridSearchCV(cv=10,\n",
       "             estimator=XGBClassifier(base_score=None, booster=None,\n",
       "                                     colsample_bylevel=None,\n",
       "                                     colsample_bynode=None,\n",
       "                                     colsample_bytree=0.5,\n",
       "                                     enable_categorical=False, gamma=None,\n",
       "                                     gpu_id=None, importance_type=None,\n",
       "                                     interaction_constraints=None,\n",
       "                                     learning_rate=None, max_delta_step=None,\n",
       "                                     max_depth=None, min_child_weight=None,\n",
       "                                     missing=nan, monotone_constraints=None,\n",
       "                                     n_estimators=100, n_jobs=None,\n",
       "                                     num_parallel_tree=None, predictor=None,\n",
       "                                     random_state=None, reg_alpha=None,\n",
       "                                     reg_lambda=None, scale_pos_weight=None,\n",
       "                                     seed=1, subsample=0.9, tree_method=None,\n",
       "                                     validate_parameters=None, verbosity=None),\n",
       "             n_jobs=10,\n",
       "             param_grid={'gamma': [0.25], 'learning_rate': [0.1, 0.01, 0.05],\n",
       "                         'max_depth': [4], 'reg_lambda': [10, 20, 100],\n",
       "                         'scale_pos_weight': [3]},\n",
       "             scoring='roc_auc')"
      ]
     },
     "execution_count": 54,
     "metadata": {},
     "output_type": "execute_result"
    }
   ],
   "source": [
    "optimal_params"
   ]
  },
  {
   "cell_type": "code",
   "execution_count": 55,
   "id": "a893d32e",
   "metadata": {},
   "outputs": [
    {
     "name": "stdout",
     "output_type": "stream",
     "text": [
      "[07:16:55] WARNING: C:/Users/Administrator/workspace/xgboost-win64_release_1.5.1/src/learner.cc:576: \n",
      "Parameters: { \"colsampl_bytree\", \"learn_rate\" } might not be used.\n",
      "\n",
      "  This could be a false alarm, with some parameters getting used by language bindings but\n",
      "  then being mistakenly passed down to XGBoost core, or some parameter actually being used\n",
      "  but getting flagged wrongly here. Please open an issue if you find any such cases.\n",
      "\n",
      "\n",
      "[0]\tvalidation_0-aucpr:0.30318\n",
      "[1]\tvalidation_0-aucpr:0.30635\n",
      "[2]\tvalidation_0-aucpr:0.30757\n",
      "[3]\tvalidation_0-aucpr:0.30889\n",
      "[4]\tvalidation_0-aucpr:0.30991\n",
      "[5]\tvalidation_0-aucpr:0.31046\n",
      "[6]\tvalidation_0-aucpr:0.31193\n"
     ]
    },
    {
     "name": "stderr",
     "output_type": "stream",
     "text": [
      "C:\\Users\\muher\\Anaconda3\\lib\\site-packages\\xgboost\\sklearn.py:1224: UserWarning: The use of label encoder in XGBClassifier is deprecated and will be removed in a future release. To remove this warning, do the following: 1) Pass option use_label_encoder=False when constructing XGBClassifier object; and 2) Encode your labels (y) as integers starting with 0, i.e. 0, 1, 2, ..., [num_class - 1].\n",
      "  warnings.warn(label_encoder_deprecation_msg, UserWarning)\n"
     ]
    },
    {
     "name": "stdout",
     "output_type": "stream",
     "text": [
      "[7]\tvalidation_0-aucpr:0.31226\n",
      "[8]\tvalidation_0-aucpr:0.31325\n",
      "[9]\tvalidation_0-aucpr:0.31385\n",
      "[10]\tvalidation_0-aucpr:0.31467\n",
      "[11]\tvalidation_0-aucpr:0.31484\n",
      "[12]\tvalidation_0-aucpr:0.31493\n",
      "[13]\tvalidation_0-aucpr:0.31556\n",
      "[14]\tvalidation_0-aucpr:0.31561\n",
      "[15]\tvalidation_0-aucpr:0.31626\n",
      "[16]\tvalidation_0-aucpr:0.31638\n",
      "[17]\tvalidation_0-aucpr:0.31636\n",
      "[18]\tvalidation_0-aucpr:0.31655\n",
      "[19]\tvalidation_0-aucpr:0.31716\n",
      "[20]\tvalidation_0-aucpr:0.31714\n",
      "[21]\tvalidation_0-aucpr:0.31674\n",
      "[22]\tvalidation_0-aucpr:0.31621\n",
      "[23]\tvalidation_0-aucpr:0.31674\n",
      "[24]\tvalidation_0-aucpr:0.31657\n",
      "[25]\tvalidation_0-aucpr:0.31623\n",
      "[26]\tvalidation_0-aucpr:0.31594\n",
      "[27]\tvalidation_0-aucpr:0.31663\n",
      "[28]\tvalidation_0-aucpr:0.31683\n"
     ]
    },
    {
     "data": {
      "text/plain": [
       "XGBClassifier(base_score=0.5, booster='gbtree', colsampl_bytree=0.5,\n",
       "              colsample_bylevel=1, colsample_bynode=1, colsample_bytree=1,\n",
       "              enable_categorical=False, gamma=0.25, gpu_id=-1,\n",
       "              importance_type=None, interaction_constraints='', learn_rate=0.1,\n",
       "              learning_rate=0.300000012, max_delta_step=0, max_depth=4,\n",
       "              min_child_weight=1, missing=1, monotone_constraints='()',\n",
       "              n_estimators=100, n_jobs=8, num_parallel_tree=1, predictor='auto',\n",
       "              random_state=1, reg_alpha=0, reg_lambda=10, scale_pos_weight=3,\n",
       "              seed=1, subsample=0.9, tree_method='exact', validate_parameters=1, ...)"
      ]
     },
     "execution_count": 55,
     "metadata": {},
     "output_type": "execute_result"
    }
   ],
   "source": [
    "clf_xgb=XGBClassifier(objective='binary:logistic', missing=1, seed=1, gamma=0.25, learn_rate=0.1, max_depth=4, reg_lambda=10,\n",
    "                     scale_pos_weight=3, subsample=0.9, colsampl_bytree=0.5)\n",
    "clf_xgb.fit(X_train, y_train, verbose=True, early_stopping_rounds=10, eval_metric='aucpr', eval_set=[(X_test, y_test)])"
   ]
  },
  {
   "cell_type": "code",
   "execution_count": 61,
   "id": "c8d22146",
   "metadata": {
    "scrolled": true
   },
   "outputs": [
    {
     "name": "stderr",
     "output_type": "stream",
     "text": [
      "C:\\Users\\muher\\Anaconda3\\lib\\site-packages\\sklearn\\utils\\deprecation.py:87: FutureWarning: Function plot_confusion_matrix is deprecated; Function `plot_confusion_matrix` is deprecated in 1.0 and will be removed in 1.2. Use one of the class methods: ConfusionMatrixDisplay.from_predictions or ConfusionMatrixDisplay.from_estimator.\n",
      "  warnings.warn(msg, category=FutureWarning)\n"
     ]
    },
    {
     "data": {
      "text/plain": [
       "<sklearn.metrics._plot.confusion_matrix.ConfusionMatrixDisplay at 0x1d9f931b1c0>"
      ]
     },
     "execution_count": 61,
     "metadata": {},
     "output_type": "execute_result"
    },
    {
     "data": {
      "image/png": "[encoded data removed]",
      "text/plain": [
       "<Figure size 432x288 with 2 Axes>"
      ]
     },
     "metadata": {
      "needs_background": "light"
     },
     "output_type": "display_data"
    }
   ],
   "source": [
    "plot_confusion_matrix(clf_xgb, X_test, y_test, values_format='d', display_labels=['Did Not Renew', 'Renewed'])"
   ]
  },
  {
   "cell_type": "code",
   "execution_count": 62,
   "id": "485fba2e",
   "metadata": {},
   "outputs": [
    {
     "name": "stdout",
     "output_type": "stream",
     "text": [
      "Accuracy: 0.7983719474013776\n"
     ]
    }
   ],
   "source": [
    "print(\"Accuracy:\",metrics.accuracy_score(y_test, prediction))"
   ]
  },
  {
   "cell_type": "code",
   "execution_count": 57,
   "id": "121990cf",
   "metadata": {},
   "outputs": [
    {
     "name": "stdout",
     "output_type": "stream",
     "text": [
      "[07:17:04] WARNING: C:/Users/Administrator/workspace/xgboost-win64_release_1.5.1/src/learner.cc:576: \n",
      "Parameters: { \"colsampl_bytree\", \"learn_rate\" } might not be used.\n",
      "\n",
      "  This could be a false alarm, with some parameters getting used by language bindings but\n",
      "  then being mistakenly passed down to XGBoost core, or some parameter actually being used\n",
      "  but getting flagged wrongly here. Please open an issue if you find any such cases.\n",
      "\n",
      "\n",
      "[0]\tvalidation_0-aucpr:0.30047\n",
      "[1]\tvalidation_0-aucpr:0.30257\n",
      "[2]\tvalidation_0-aucpr:0.30629\n",
      "[3]\tvalidation_0-aucpr:0.30691\n",
      "[4]\tvalidation_0-aucpr:0.30851\n",
      "[5]\tvalidation_0-aucpr:0.30862\n"
     ]
    },
    {
     "name": "stderr",
     "output_type": "stream",
     "text": [
      "C:\\Users\\muher\\Anaconda3\\lib\\site-packages\\xgboost\\sklearn.py:1224: UserWarning: The use of label encoder in XGBClassifier is deprecated and will be removed in a future release. To remove this warning, do the following: 1) Pass option use_label_encoder=False when constructing XGBClassifier object; and 2) Encode your labels (y) as integers starting with 0, i.e. 0, 1, 2, ..., [num_class - 1].\n",
      "  warnings.warn(label_encoder_deprecation_msg, UserWarning)\n"
     ]
    },
    {
     "name": "stdout",
     "output_type": "stream",
     "text": [
      "[6]\tvalidation_0-aucpr:0.31291\n",
      "[7]\tvalidation_0-aucpr:0.31290\n",
      "[8]\tvalidation_0-aucpr:0.31300\n",
      "[9]\tvalidation_0-aucpr:0.31208\n",
      "[10]\tvalidation_0-aucpr:0.31281\n",
      "[11]\tvalidation_0-aucpr:0.31277\n",
      "[12]\tvalidation_0-aucpr:0.31299\n",
      "[13]\tvalidation_0-aucpr:0.31284\n",
      "[14]\tvalidation_0-aucpr:0.31295\n",
      "[15]\tvalidation_0-aucpr:0.31339\n",
      "[16]\tvalidation_0-aucpr:0.31369\n",
      "[17]\tvalidation_0-aucpr:0.31365\n",
      "[18]\tvalidation_0-aucpr:0.31385\n",
      "[19]\tvalidation_0-aucpr:0.31434\n",
      "[20]\tvalidation_0-aucpr:0.31427\n",
      "[21]\tvalidation_0-aucpr:0.31473\n",
      "[22]\tvalidation_0-aucpr:0.31517\n",
      "[23]\tvalidation_0-aucpr:0.31518\n",
      "[24]\tvalidation_0-aucpr:0.31469\n",
      "[25]\tvalidation_0-aucpr:0.31488\n",
      "[26]\tvalidation_0-aucpr:0.31487\n",
      "[27]\tvalidation_0-aucpr:0.31493\n",
      "[28]\tvalidation_0-aucpr:0.31486\n",
      "[29]\tvalidation_0-aucpr:0.31483\n",
      "[30]\tvalidation_0-aucpr:0.31484\n",
      "[31]\tvalidation_0-aucpr:0.31468\n",
      "[32]\tvalidation_0-aucpr:0.31467\n"
     ]
    },
    {
     "name": "stderr",
     "output_type": "stream",
     "text": [
      "C:\\Users\\muher\\Anaconda3\\lib\\site-packages\\sklearn\\utils\\deprecation.py:87: FutureWarning: Function plot_confusion_matrix is deprecated; Function `plot_confusion_matrix` is deprecated in 1.0 and will be removed in 1.2. Use one of the class methods: ConfusionMatrixDisplay.from_predictions or ConfusionMatrixDisplay.from_estimator.\n",
      "  warnings.warn(msg, category=FutureWarning)\n"
     ]
    },
    {
     "data": {
      "text/plain": [
       "<sklearn.metrics._plot.confusion_matrix.ConfusionMatrixDisplay at 0x1d9f9034f40>"
      ]
     },
     "execution_count": 57,
     "metadata": {},
     "output_type": "execute_result"
    },
    {
     "data": {
      "image/png": "[encoded data removed]",
      "text/plain": [
       "<Figure size 432x288 with 2 Axes>"
      ]
     },
     "metadata": {
      "needs_background": "light"
     },
     "output_type": "display_data"
    }
   ],
   "source": [
    "clf_xgb=XGBClassifier(objective='binary:logistic', missing=1, seed=1, gamma=0.5, learn_rate=0.5, max_depth=5, reg_lambda=100,\n",
    "                     scale_pos_weight=5, subsample=0.9, colsampl_bytree=0.5)\n",
    "clf_xgb.fit(X_train, y_train, verbose=True, early_stopping_rounds=10, eval_metric='aucpr', eval_set=[(X_test, y_test)])\n",
    "plot_confusion_matrix(clf_xgb, X_test, y_test, values_format='d', display_labels=['Did Not Renew', 'Renewed'])"
   ]
  },
  {
   "cell_type": "markdown",
   "id": "988d2d1c",
   "metadata": {},
   "source": [
    "3349/4693 = 71% accurately predicted for Renewed  9988/19262 = 52% for did not renew"
   ]
  },
  {
   "cell_type": "code",
   "execution_count": 58,
   "id": "7ffcb9fd",
   "metadata": {
    "scrolled": true
   },
   "outputs": [
    {
     "name": "stdout",
     "output_type": "stream",
     "text": [
      "[07:17:12] WARNING: C:/Users/Administrator/workspace/xgboost-win64_release_1.5.1/src/learner.cc:576: \n",
      "Parameters: { \"colsampl_bytree\", \"learn_rate\" } might not be used.\n",
      "\n",
      "  This could be a false alarm, with some parameters getting used by language bindings but\n",
      "  then being mistakenly passed down to XGBoost core, or some parameter actually being used\n",
      "  but getting flagged wrongly here. Please open an issue if you find any such cases.\n",
      "\n",
      "\n",
      "[07:17:12] WARNING: C:/Users/Administrator/workspace/xgboost-win64_release_1.5.1/src/learner.cc:1115: Starting in XGBoost 1.3.0, the default evaluation metric used with the objective 'binary:logistic' was changed from 'error' to 'logloss'. Explicitly set eval_metric if you'd like to restore the old behavior.\n",
      "weight: {'no_rent_change': 1.0, 'rent_change_10': 1.0, 'rent_change_20': 2.0, 'lease_length_1': 2.0, 'age_range_under_24': 2.0, 'age_range_30_39': 3.0, 'age_range_60': 1.0, 'NoFinesViolations': 2.0, 'PositiveSurvey': 1.0, 'LatePayments': 2.0, 'HOA_mandatory': 2.0}\n",
      "gain: {'no_rent_change': 2538.05078125, 'rent_change_10': 22.13470458984375, 'rent_change_20': 67.99122619628906, 'lease_length_1': 464.8979187011719, 'age_range_under_24': 15.3489990234375, 'age_range_30_39': 88.525390625, 'age_range_60': 18.9012451171875, 'NoFinesViolations': 886.7726440429688, 'PositiveSurvey': 26.32284927368164, 'LatePayments': 159.74765014648438, 'HOA_mandatory': 310.00775146484375}\n",
      "cover: {'no_rent_change': 22414.25, 'rent_change_10': 477.0, 'rent_change_20': 2966.75, 'lease_length_1': 6706.75, 'age_range_under_24': 2526.75, 'age_range_30_39': 4065.916748046875, 'age_range_60': 3766.5, 'NoFinesViolations': 11207.125, 'PositiveSurvey': 376.25, 'LatePayments': 3898.0, 'HOA_mandatory': 4507.375}\n",
      "total_gain: {'no_rent_change': 2538.05078125, 'rent_change_10': 22.13470458984375, 'rent_change_20': 135.98245239257812, 'lease_length_1': 929.7958374023438, 'age_range_under_24': 30.697998046875, 'age_range_30_39': 265.576171875, 'age_range_60': 18.9012451171875, 'NoFinesViolations': 1773.5452880859375, 'PositiveSurvey': 26.32284927368164, 'LatePayments': 319.49530029296875, 'HOA_mandatory': 620.0155029296875}\n",
      "total_cover: {'no_rent_change': 22414.25, 'rent_change_10': 477.0, 'rent_change_20': 5933.5, 'lease_length_1': 13413.5, 'age_range_under_24': 5053.5, 'age_range_30_39': 12197.75, 'age_range_60': 3766.5, 'NoFinesViolations': 22414.25, 'PositiveSurvey': 376.25, 'LatePayments': 7796.0, 'HOA_mandatory': 9014.75}\n"
     ]
    },
    {
     "name": "stderr",
     "output_type": "stream",
     "text": [
      "C:\\Users\\muher\\Anaconda3\\lib\\site-packages\\xgboost\\sklearn.py:1224: UserWarning: The use of label encoder in XGBClassifier is deprecated and will be removed in a future release. To remove this warning, do the following: 1) Pass option use_label_encoder=False when constructing XGBClassifier object; and 2) Encode your labels (y) as integers starting with 0, i.e. 0, 1, 2, ..., [num_class - 1].\n",
      "  warnings.warn(label_encoder_deprecation_msg, UserWarning)\n"
     ]
    }
   ],
   "source": [
    "clf_xgb=XGBClassifier(objective='binary:logistic', missing=1, seed=1, gamma=0.5, learn_rate=0.5, max_depth=5, reg_lambda=100,\n",
    "                     scale_pos_weight=5, subsample=0.9, colsampl_bytree=0.5, n_estimators=1)\n",
    "clf_xgb.fit(X_train, y_train)\n",
    "bst=clf_xgb.get_booster()\n",
    "for importance_type in ('weight','gain','cover','total_gain', 'total_cover'):print('%s:'%importance_type, bst.get_score(importance_type=importance_type))"
   ]
  },
  {
   "cell_type": "code",
   "execution_count": 59,
   "id": "6601be2e",
   "metadata": {},
   "outputs": [
    {
     "name": "stdout",
     "output_type": "stream",
     "text": [
      "Accuracy: 0.7983719474013776\n"
     ]
    }
   ],
   "source": [
    "print(\"Accuracy:\",metrics.accuracy_score(y_test, prediction))"
   ]
  },
  {
   "cell_type": "code",
   "execution_count": 153,
   "id": "2ebeab72",
   "metadata": {},
   "outputs": [],
   "source": [
    "node_params={'shape':'box','style':'filled, rounded','fillcolor':'#78cbe'}\n",
    "leaf_params={'shape':'box', 'style':'filled', 'fillcolor':'#e48038'}"
   ]
  },
  {
   "cell_type": "code",
   "execution_count": 154,
   "id": "7230a471",
   "metadata": {
    "scrolled": false
   },
   "outputs": [
    {
     "ename": "XGBoostError",
     "evalue": "[06:58:49] C:/Users/Administrator/workspace/xgboost-win64_release_1.5.1/src/tree/tree_model.cc:566: Failed to parse graphviz parameters:\n\t{\"graph_attrs\": {\"leafe_node_params\": {\"shape\": \"box\", \"style\": \"filled\", \"fillcolor\": \"#e48038\"}}, \"condition_node_params\": {\"shape\": \"box\", \"style\": \"filled, rounded\", \"fillcolor\": \"#78cbe\"}}\nWith error:\n[06:58:49] c:\\users\\administrator\\workspace\\xgboost-win64_release_1.5.1\\dmlc-core\\include\\dmlc\\./json.h:677: Check failed: ch == '\\\"' (123 vs. \") : Error at Line 0, around ^`\"shape\": \"box\", \"style\": \"filled\", \"fillcolor\": \"#e48038\"}}, \"c`, Expect '\"' but get '{'",
     "output_type": "error",
     "traceback": [
      "\u001b[1;31m---------------------------------------------------------------------------\u001b[0m",
      "\u001b[1;31mXGBoostError\u001b[0m                              Traceback (most recent call last)",
      "\u001b[1;32m~\\AppData\\Local\\Temp/ipykernel_8184/3880739441.py\u001b[0m in \u001b[0;36m<module>\u001b[1;34m\u001b[0m\n\u001b[1;32m----> 1\u001b[1;33m \u001b[0mxgb\u001b[0m\u001b[1;33m.\u001b[0m\u001b[0mto_graphviz\u001b[0m\u001b[1;33m(\u001b[0m\u001b[0mclf_xgb\u001b[0m\u001b[1;33m,\u001b[0m \u001b[0mnum_trees\u001b[0m\u001b[1;33m=\u001b[0m\u001b[1;36m0\u001b[0m\u001b[1;33m,\u001b[0m \u001b[0msize\u001b[0m\u001b[1;33m=\u001b[0m\u001b[1;34m\"10,10\"\u001b[0m\u001b[1;33m,\u001b[0m\u001b[0mcondition_node_params\u001b[0m\u001b[1;33m=\u001b[0m\u001b[0mnode_params\u001b[0m\u001b[1;33m,\u001b[0m \u001b[0mleafe_node_params\u001b[0m\u001b[1;33m=\u001b[0m\u001b[0mleaf_params\u001b[0m\u001b[1;33m)\u001b[0m\u001b[1;33m\u001b[0m\u001b[1;33m\u001b[0m\u001b[0m\n\u001b[0m",
      "\u001b[1;32m~\\Anaconda3\\lib\\site-packages\\xgboost\\plotting.py\u001b[0m in \u001b[0;36mto_graphviz\u001b[1;34m(booster, fmap, num_trees, rankdir, yes_color, no_color, condition_node_params, leaf_node_params, **kwargs)\u001b[0m\n\u001b[0;32m    206\u001b[0m         \u001b[0mparameters\u001b[0m \u001b[1;33m+=\u001b[0m \u001b[1;34m':'\u001b[0m\u001b[1;33m\u001b[0m\u001b[1;33m\u001b[0m\u001b[0m\n\u001b[0;32m    207\u001b[0m         \u001b[0mparameters\u001b[0m \u001b[1;33m+=\u001b[0m \u001b[0mjson\u001b[0m\u001b[1;33m.\u001b[0m\u001b[0mdumps\u001b[0m\u001b[1;33m(\u001b[0m\u001b[0mkwargs\u001b[0m\u001b[1;33m)\u001b[0m\u001b[1;33m\u001b[0m\u001b[1;33m\u001b[0m\u001b[0m\n\u001b[1;32m--> 208\u001b[1;33m     tree = booster.get_dump(\n\u001b[0m\u001b[0;32m    209\u001b[0m         \u001b[0mfmap\u001b[0m\u001b[1;33m=\u001b[0m\u001b[0mfmap\u001b[0m\u001b[1;33m,\u001b[0m\u001b[1;33m\u001b[0m\u001b[1;33m\u001b[0m\u001b[0m\n\u001b[0;32m    210\u001b[0m         dump_format=parameters)[num_trees]\n",
      "\u001b[1;32m~\\Anaconda3\\lib\\site-packages\\xgboost\\core.py\u001b[0m in \u001b[0;36mget_dump\u001b[1;34m(self, fmap, with_stats, dump_format)\u001b[0m\n\u001b[0;32m   2258\u001b[0m         \u001b[0mlength\u001b[0m \u001b[1;33m=\u001b[0m \u001b[0mc_bst_ulong\u001b[0m\u001b[1;33m(\u001b[0m\u001b[1;33m)\u001b[0m\u001b[1;33m\u001b[0m\u001b[1;33m\u001b[0m\u001b[0m\n\u001b[0;32m   2259\u001b[0m         \u001b[0msarr\u001b[0m \u001b[1;33m=\u001b[0m \u001b[0mctypes\u001b[0m\u001b[1;33m.\u001b[0m\u001b[0mPOINTER\u001b[0m\u001b[1;33m(\u001b[0m\u001b[0mctypes\u001b[0m\u001b[1;33m.\u001b[0m\u001b[0mc_char_p\u001b[0m\u001b[1;33m)\u001b[0m\u001b[1;33m(\u001b[0m\u001b[1;33m)\u001b[0m\u001b[1;33m\u001b[0m\u001b[1;33m\u001b[0m\u001b[0m\n\u001b[1;32m-> 2260\u001b[1;33m         _check_call(_LIB.XGBoosterDumpModelEx(self.handle,\n\u001b[0m\u001b[0;32m   2261\u001b[0m                                               \u001b[0mc_str\u001b[0m\u001b[1;33m(\u001b[0m\u001b[0mfmap\u001b[0m\u001b[1;33m)\u001b[0m\u001b[1;33m,\u001b[0m\u001b[1;33m\u001b[0m\u001b[1;33m\u001b[0m\u001b[0m\n\u001b[0;32m   2262\u001b[0m                                               \u001b[0mctypes\u001b[0m\u001b[1;33m.\u001b[0m\u001b[0mc_int\u001b[0m\u001b[1;33m(\u001b[0m\u001b[0mwith_stats\u001b[0m\u001b[1;33m)\u001b[0m\u001b[1;33m,\u001b[0m\u001b[1;33m\u001b[0m\u001b[1;33m\u001b[0m\u001b[0m\n",
      "\u001b[1;32m~\\Anaconda3\\lib\\site-packages\\xgboost\\core.py\u001b[0m in \u001b[0;36m_check_call\u001b[1;34m(ret)\u001b[0m\n\u001b[0;32m    216\u001b[0m     \"\"\"\n\u001b[0;32m    217\u001b[0m     \u001b[1;32mif\u001b[0m \u001b[0mret\u001b[0m \u001b[1;33m!=\u001b[0m \u001b[1;36m0\u001b[0m\u001b[1;33m:\u001b[0m\u001b[1;33m\u001b[0m\u001b[1;33m\u001b[0m\u001b[0m\n\u001b[1;32m--> 218\u001b[1;33m         \u001b[1;32mraise\u001b[0m \u001b[0mXGBoostError\u001b[0m\u001b[1;33m(\u001b[0m\u001b[0mpy_str\u001b[0m\u001b[1;33m(\u001b[0m\u001b[0m_LIB\u001b[0m\u001b[1;33m.\u001b[0m\u001b[0mXGBGetLastError\u001b[0m\u001b[1;33m(\u001b[0m\u001b[1;33m)\u001b[0m\u001b[1;33m)\u001b[0m\u001b[1;33m)\u001b[0m\u001b[1;33m\u001b[0m\u001b[1;33m\u001b[0m\u001b[0m\n\u001b[0m\u001b[0;32m    219\u001b[0m \u001b[1;33m\u001b[0m\u001b[0m\n\u001b[0;32m    220\u001b[0m \u001b[1;33m\u001b[0m\u001b[0m\n",
      "\u001b[1;31mXGBoostError\u001b[0m: [06:58:49] C:/Users/Administrator/workspace/xgboost-win64_release_1.5.1/src/tree/tree_model.cc:566: Failed to parse graphviz parameters:\n\t{\"graph_attrs\": {\"leafe_node_params\": {\"shape\": \"box\", \"style\": \"filled\", \"fillcolor\": \"#e48038\"}}, \"condition_node_params\": {\"shape\": \"box\", \"style\": \"filled, rounded\", \"fillcolor\": \"#78cbe\"}}\nWith error:\n[06:58:49] c:\\users\\administrator\\workspace\\xgboost-win64_release_1.5.1\\dmlc-core\\include\\dmlc\\./json.h:677: Check failed: ch == '\\\"' (123 vs. \") : Error at Line 0, around ^`\"shape\": \"box\", \"style\": \"filled\", \"fillcolor\": \"#e48038\"}}, \"c`, Expect '\"' but get '{'"
     ]
    }
   ],
   "source": [
    "xgb.to_graphviz(clf_xgb, num_trees=0, size=\"10,10\",condition_node_params=node_params, leafe_node_params=leaf_params)"
   ]
  },
  {
   "cell_type": "code",
   "execution_count": 155,
   "id": "5cd62284",
   "metadata": {},
   "outputs": [
    {
     "ename": "ExecutableNotFound",
     "evalue": "failed to execute WindowsPath('dot'), make sure the Graphviz executables are on your systems' PATH",
     "output_type": "error",
     "traceback": [
      "\u001b[1;31m---------------------------------------------------------------------------\u001b[0m",
      "\u001b[1;31mFileNotFoundError\u001b[0m                         Traceback (most recent call last)",
      "\u001b[1;32m~\\Anaconda3\\lib\\site-packages\\graphviz\\backend\\execute.py\u001b[0m in \u001b[0;36mrun_check\u001b[1;34m(cmd, input_lines, encoding, quiet, **kwargs)\u001b[0m\n\u001b[0;32m     78\u001b[0m                 \u001b[0mkwargs\u001b[0m\u001b[1;33m[\u001b[0m\u001b[1;34m'stdout'\u001b[0m\u001b[1;33m]\u001b[0m \u001b[1;33m=\u001b[0m \u001b[0mkwargs\u001b[0m\u001b[1;33m[\u001b[0m\u001b[1;34m'stderr'\u001b[0m\u001b[1;33m]\u001b[0m \u001b[1;33m=\u001b[0m \u001b[0msubprocess\u001b[0m\u001b[1;33m.\u001b[0m\u001b[0mPIPE\u001b[0m\u001b[1;33m\u001b[0m\u001b[1;33m\u001b[0m\u001b[0m\n\u001b[1;32m---> 79\u001b[1;33m             \u001b[0mproc\u001b[0m \u001b[1;33m=\u001b[0m \u001b[0m_run_input_lines\u001b[0m\u001b[1;33m(\u001b[0m\u001b[0mcmd\u001b[0m\u001b[1;33m,\u001b[0m \u001b[0minput_lines\u001b[0m\u001b[1;33m,\u001b[0m \u001b[0mkwargs\u001b[0m\u001b[1;33m=\u001b[0m\u001b[0mkwargs\u001b[0m\u001b[1;33m)\u001b[0m\u001b[1;33m\u001b[0m\u001b[1;33m\u001b[0m\u001b[0m\n\u001b[0m\u001b[0;32m     80\u001b[0m         \u001b[1;32melse\u001b[0m\u001b[1;33m:\u001b[0m\u001b[1;33m\u001b[0m\u001b[1;33m\u001b[0m\u001b[0m\n",
      "\u001b[1;32m~\\Anaconda3\\lib\\site-packages\\graphviz\\backend\\execute.py\u001b[0m in \u001b[0;36m_run_input_lines\u001b[1;34m(cmd, input_lines, kwargs)\u001b[0m\n\u001b[0;32m     98\u001b[0m \u001b[1;32mdef\u001b[0m \u001b[0m_run_input_lines\u001b[0m\u001b[1;33m(\u001b[0m\u001b[0mcmd\u001b[0m\u001b[1;33m,\u001b[0m \u001b[0minput_lines\u001b[0m\u001b[1;33m,\u001b[0m \u001b[1;33m*\u001b[0m\u001b[1;33m,\u001b[0m \u001b[0mkwargs\u001b[0m\u001b[1;33m)\u001b[0m\u001b[1;33m:\u001b[0m\u001b[1;33m\u001b[0m\u001b[1;33m\u001b[0m\u001b[0m\n\u001b[1;32m---> 99\u001b[1;33m     \u001b[0mpopen\u001b[0m \u001b[1;33m=\u001b[0m \u001b[0msubprocess\u001b[0m\u001b[1;33m.\u001b[0m\u001b[0mPopen\u001b[0m\u001b[1;33m(\u001b[0m\u001b[0mcmd\u001b[0m\u001b[1;33m,\u001b[0m \u001b[0mstdin\u001b[0m\u001b[1;33m=\u001b[0m\u001b[0msubprocess\u001b[0m\u001b[1;33m.\u001b[0m\u001b[0mPIPE\u001b[0m\u001b[1;33m,\u001b[0m \u001b[1;33m**\u001b[0m\u001b[0mkwargs\u001b[0m\u001b[1;33m)\u001b[0m\u001b[1;33m\u001b[0m\u001b[1;33m\u001b[0m\u001b[0m\n\u001b[0m\u001b[0;32m    100\u001b[0m \u001b[1;33m\u001b[0m\u001b[0m\n",
      "\u001b[1;32m~\\Anaconda3\\lib\\subprocess.py\u001b[0m in \u001b[0;36m__init__\u001b[1;34m(self, args, bufsize, executable, stdin, stdout, stderr, preexec_fn, close_fds, shell, cwd, env, universal_newlines, startupinfo, creationflags, restore_signals, start_new_session, pass_fds, encoding, errors, text)\u001b[0m\n\u001b[0;32m    857\u001b[0m \u001b[1;33m\u001b[0m\u001b[0m\n\u001b[1;32m--> 858\u001b[1;33m             self._execute_child(args, executable, preexec_fn, close_fds,\n\u001b[0m\u001b[0;32m    859\u001b[0m                                 \u001b[0mpass_fds\u001b[0m\u001b[1;33m,\u001b[0m \u001b[0mcwd\u001b[0m\u001b[1;33m,\u001b[0m \u001b[0menv\u001b[0m\u001b[1;33m,\u001b[0m\u001b[1;33m\u001b[0m\u001b[1;33m\u001b[0m\u001b[0m\n",
      "\u001b[1;32m~\\Anaconda3\\lib\\subprocess.py\u001b[0m in \u001b[0;36m_execute_child\u001b[1;34m(self, args, executable, preexec_fn, close_fds, pass_fds, cwd, env, startupinfo, creationflags, shell, p2cread, p2cwrite, c2pread, c2pwrite, errread, errwrite, unused_restore_signals, unused_start_new_session)\u001b[0m\n\u001b[0;32m   1310\u001b[0m             \u001b[1;32mtry\u001b[0m\u001b[1;33m:\u001b[0m\u001b[1;33m\u001b[0m\u001b[1;33m\u001b[0m\u001b[0m\n\u001b[1;32m-> 1311\u001b[1;33m                 hp, ht, pid, tid = _winapi.CreateProcess(executable, args,\n\u001b[0m\u001b[0;32m   1312\u001b[0m                                          \u001b[1;31m# no special security\u001b[0m\u001b[1;33m\u001b[0m\u001b[1;33m\u001b[0m\u001b[1;33m\u001b[0m\u001b[0m\n",
      "\u001b[1;31mFileNotFoundError\u001b[0m: [WinError 2] The system cannot find the file specified",
      "\nThe above exception was the direct cause of the following exception:\n",
      "\u001b[1;31mExecutableNotFound\u001b[0m                        Traceback (most recent call last)",
      "\u001b[1;32m~\\Anaconda3\\lib\\site-packages\\IPython\\core\\formatters.py\u001b[0m in \u001b[0;36m__call__\u001b[1;34m(self, obj, include, exclude)\u001b[0m\n\u001b[0;32m    968\u001b[0m \u001b[1;33m\u001b[0m\u001b[0m\n\u001b[0;32m    969\u001b[0m             \u001b[1;32mif\u001b[0m \u001b[0mmethod\u001b[0m \u001b[1;32mis\u001b[0m \u001b[1;32mnot\u001b[0m \u001b[1;32mNone\u001b[0m\u001b[1;33m:\u001b[0m\u001b[1;33m\u001b[0m\u001b[1;33m\u001b[0m\u001b[0m\n\u001b[1;32m--> 970\u001b[1;33m                 \u001b[1;32mreturn\u001b[0m \u001b[0mmethod\u001b[0m\u001b[1;33m(\u001b[0m\u001b[0minclude\u001b[0m\u001b[1;33m=\u001b[0m\u001b[0minclude\u001b[0m\u001b[1;33m,\u001b[0m \u001b[0mexclude\u001b[0m\u001b[1;33m=\u001b[0m\u001b[0mexclude\u001b[0m\u001b[1;33m)\u001b[0m\u001b[1;33m\u001b[0m\u001b[1;33m\u001b[0m\u001b[0m\n\u001b[0m\u001b[0;32m    971\u001b[0m             \u001b[1;32mreturn\u001b[0m \u001b[1;32mNone\u001b[0m\u001b[1;33m\u001b[0m\u001b[1;33m\u001b[0m\u001b[0m\n\u001b[0;32m    972\u001b[0m         \u001b[1;32melse\u001b[0m\u001b[1;33m:\u001b[0m\u001b[1;33m\u001b[0m\u001b[1;33m\u001b[0m\u001b[0m\n",
      "\u001b[1;32m~\\Anaconda3\\lib\\site-packages\\graphviz\\jupyter_integration.py\u001b[0m in \u001b[0;36m_repr_mimebundle_\u001b[1;34m(self, include, exclude, **_)\u001b[0m\n\u001b[0;32m     96\u001b[0m         \u001b[0minclude\u001b[0m \u001b[1;33m=\u001b[0m \u001b[0mset\u001b[0m\u001b[1;33m(\u001b[0m\u001b[0minclude\u001b[0m\u001b[1;33m)\u001b[0m \u001b[1;32mif\u001b[0m \u001b[0minclude\u001b[0m \u001b[1;32mis\u001b[0m \u001b[1;32mnot\u001b[0m \u001b[1;32mNone\u001b[0m \u001b[1;32melse\u001b[0m \u001b[1;33m{\u001b[0m\u001b[0mself\u001b[0m\u001b[1;33m.\u001b[0m\u001b[0m_jupyter_mimetype\u001b[0m\u001b[1;33m}\u001b[0m\u001b[1;33m\u001b[0m\u001b[1;33m\u001b[0m\u001b[0m\n\u001b[0;32m     97\u001b[0m         \u001b[0minclude\u001b[0m \u001b[1;33m-=\u001b[0m \u001b[0mset\u001b[0m\u001b[1;33m(\u001b[0m\u001b[0mexclude\u001b[0m \u001b[1;32mor\u001b[0m \u001b[1;33m[\u001b[0m\u001b[1;33m]\u001b[0m\u001b[1;33m)\u001b[0m\u001b[1;33m\u001b[0m\u001b[1;33m\u001b[0m\u001b[0m\n\u001b[1;32m---> 98\u001b[1;33m         return {mimetype: getattr(self, method_name)()\n\u001b[0m\u001b[0;32m     99\u001b[0m                 \u001b[1;32mfor\u001b[0m \u001b[0mmimetype\u001b[0m\u001b[1;33m,\u001b[0m \u001b[0mmethod_name\u001b[0m \u001b[1;32min\u001b[0m \u001b[0mMIME_TYPES\u001b[0m\u001b[1;33m.\u001b[0m\u001b[0mitems\u001b[0m\u001b[1;33m(\u001b[0m\u001b[1;33m)\u001b[0m\u001b[1;33m\u001b[0m\u001b[1;33m\u001b[0m\u001b[0m\n\u001b[0;32m    100\u001b[0m                 if mimetype in include}\n",
      "\u001b[1;32m~\\Anaconda3\\lib\\site-packages\\graphviz\\jupyter_integration.py\u001b[0m in \u001b[0;36m<dictcomp>\u001b[1;34m(.0)\u001b[0m\n\u001b[0;32m     96\u001b[0m         \u001b[0minclude\u001b[0m \u001b[1;33m=\u001b[0m \u001b[0mset\u001b[0m\u001b[1;33m(\u001b[0m\u001b[0minclude\u001b[0m\u001b[1;33m)\u001b[0m \u001b[1;32mif\u001b[0m \u001b[0minclude\u001b[0m \u001b[1;32mis\u001b[0m \u001b[1;32mnot\u001b[0m \u001b[1;32mNone\u001b[0m \u001b[1;32melse\u001b[0m \u001b[1;33m{\u001b[0m\u001b[0mself\u001b[0m\u001b[1;33m.\u001b[0m\u001b[0m_jupyter_mimetype\u001b[0m\u001b[1;33m}\u001b[0m\u001b[1;33m\u001b[0m\u001b[1;33m\u001b[0m\u001b[0m\n\u001b[0;32m     97\u001b[0m         \u001b[0minclude\u001b[0m \u001b[1;33m-=\u001b[0m \u001b[0mset\u001b[0m\u001b[1;33m(\u001b[0m\u001b[0mexclude\u001b[0m \u001b[1;32mor\u001b[0m \u001b[1;33m[\u001b[0m\u001b[1;33m]\u001b[0m\u001b[1;33m)\u001b[0m\u001b[1;33m\u001b[0m\u001b[1;33m\u001b[0m\u001b[0m\n\u001b[1;32m---> 98\u001b[1;33m         return {mimetype: getattr(self, method_name)()\n\u001b[0m\u001b[0;32m     99\u001b[0m                 \u001b[1;32mfor\u001b[0m \u001b[0mmimetype\u001b[0m\u001b[1;33m,\u001b[0m \u001b[0mmethod_name\u001b[0m \u001b[1;32min\u001b[0m \u001b[0mMIME_TYPES\u001b[0m\u001b[1;33m.\u001b[0m\u001b[0mitems\u001b[0m\u001b[1;33m(\u001b[0m\u001b[1;33m)\u001b[0m\u001b[1;33m\u001b[0m\u001b[1;33m\u001b[0m\u001b[0m\n\u001b[0;32m    100\u001b[0m                 if mimetype in include}\n",
      "\u001b[1;32m~\\Anaconda3\\lib\\site-packages\\graphviz\\jupyter_integration.py\u001b[0m in \u001b[0;36m_repr_image_svg_xml\u001b[1;34m(self)\u001b[0m\n\u001b[0;32m    110\u001b[0m     \u001b[1;32mdef\u001b[0m \u001b[0m_repr_image_svg_xml\u001b[0m\u001b[1;33m(\u001b[0m\u001b[0mself\u001b[0m\u001b[1;33m)\u001b[0m \u001b[1;33m->\u001b[0m \u001b[0mstr\u001b[0m\u001b[1;33m:\u001b[0m\u001b[1;33m\u001b[0m\u001b[1;33m\u001b[0m\u001b[0m\n\u001b[0;32m    111\u001b[0m         \u001b[1;34m\"\"\"Return the rendered graph as SVG string.\"\"\"\u001b[0m\u001b[1;33m\u001b[0m\u001b[1;33m\u001b[0m\u001b[0m\n\u001b[1;32m--> 112\u001b[1;33m         \u001b[1;32mreturn\u001b[0m \u001b[0mself\u001b[0m\u001b[1;33m.\u001b[0m\u001b[0mpipe\u001b[0m\u001b[1;33m(\u001b[0m\u001b[0mformat\u001b[0m\u001b[1;33m=\u001b[0m\u001b[1;34m'svg'\u001b[0m\u001b[1;33m,\u001b[0m \u001b[0mencoding\u001b[0m\u001b[1;33m=\u001b[0m\u001b[0mSVG_ENCODING\u001b[0m\u001b[1;33m)\u001b[0m\u001b[1;33m\u001b[0m\u001b[1;33m\u001b[0m\u001b[0m\n\u001b[0m",
      "\u001b[1;32m~\\Anaconda3\\lib\\site-packages\\graphviz\\piping.py\u001b[0m in \u001b[0;36mpipe\u001b[1;34m(self, format, renderer, formatter, neato_no_op, quiet, engine, encoding)\u001b[0m\n\u001b[0;32m    102\u001b[0m             \u001b[1;34m'<?xml version='\u001b[0m\u001b[1;33m\u001b[0m\u001b[1;33m\u001b[0m\u001b[0m\n\u001b[0;32m    103\u001b[0m         \"\"\"\n\u001b[1;32m--> 104\u001b[1;33m         return self._pipe_legacy(format,\n\u001b[0m\u001b[0;32m    105\u001b[0m                                  \u001b[0mrenderer\u001b[0m\u001b[1;33m=\u001b[0m\u001b[0mrenderer\u001b[0m\u001b[1;33m,\u001b[0m\u001b[1;33m\u001b[0m\u001b[1;33m\u001b[0m\u001b[0m\n\u001b[0;32m    106\u001b[0m                                  \u001b[0mformatter\u001b[0m\u001b[1;33m=\u001b[0m\u001b[0mformatter\u001b[0m\u001b[1;33m,\u001b[0m\u001b[1;33m\u001b[0m\u001b[1;33m\u001b[0m\u001b[0m\n",
      "\u001b[1;32m~\\Anaconda3\\lib\\site-packages\\graphviz\\_tools.py\u001b[0m in \u001b[0;36mwrapper\u001b[1;34m(*args, **kwargs)\u001b[0m\n\u001b[0;32m    169\u001b[0m                               category=category)\n\u001b[0;32m    170\u001b[0m \u001b[1;33m\u001b[0m\u001b[0m\n\u001b[1;32m--> 171\u001b[1;33m             \u001b[1;32mreturn\u001b[0m \u001b[0mfunc\u001b[0m\u001b[1;33m(\u001b[0m\u001b[1;33m*\u001b[0m\u001b[0margs\u001b[0m\u001b[1;33m,\u001b[0m \u001b[1;33m**\u001b[0m\u001b[0mkwargs\u001b[0m\u001b[1;33m)\u001b[0m\u001b[1;33m\u001b[0m\u001b[1;33m\u001b[0m\u001b[0m\n\u001b[0m\u001b[0;32m    172\u001b[0m \u001b[1;33m\u001b[0m\u001b[0m\n\u001b[0;32m    173\u001b[0m         \u001b[1;32mreturn\u001b[0m \u001b[0mwrapper\u001b[0m\u001b[1;33m\u001b[0m\u001b[1;33m\u001b[0m\u001b[0m\n",
      "\u001b[1;32m~\\Anaconda3\\lib\\site-packages\\graphviz\\piping.py\u001b[0m in \u001b[0;36m_pipe_legacy\u001b[1;34m(self, format, renderer, formatter, neato_no_op, quiet, engine, encoding)\u001b[0m\n\u001b[0;32m    119\u001b[0m                      \u001b[0mengine\u001b[0m\u001b[1;33m:\u001b[0m \u001b[0mtyping\u001b[0m\u001b[1;33m.\u001b[0m\u001b[0mOptional\u001b[0m\u001b[1;33m[\u001b[0m\u001b[0mstr\u001b[0m\u001b[1;33m]\u001b[0m \u001b[1;33m=\u001b[0m \u001b[1;32mNone\u001b[0m\u001b[1;33m,\u001b[0m\u001b[1;33m\u001b[0m\u001b[1;33m\u001b[0m\u001b[0m\n\u001b[0;32m    120\u001b[0m                      encoding: typing.Optional[str] = None) -> typing.Union[bytes, str]:\n\u001b[1;32m--> 121\u001b[1;33m         return self._pipe_future(format,\n\u001b[0m\u001b[0;32m    122\u001b[0m                                  \u001b[0mrenderer\u001b[0m\u001b[1;33m=\u001b[0m\u001b[0mrenderer\u001b[0m\u001b[1;33m,\u001b[0m\u001b[1;33m\u001b[0m\u001b[1;33m\u001b[0m\u001b[0m\n\u001b[0;32m    123\u001b[0m                                  \u001b[0mformatter\u001b[0m\u001b[1;33m=\u001b[0m\u001b[0mformatter\u001b[0m\u001b[1;33m,\u001b[0m\u001b[1;33m\u001b[0m\u001b[1;33m\u001b[0m\u001b[0m\n",
      "\u001b[1;32m~\\Anaconda3\\lib\\site-packages\\graphviz\\piping.py\u001b[0m in \u001b[0;36m_pipe_future\u001b[1;34m(self, format, renderer, formatter, neato_no_op, quiet, engine, encoding)\u001b[0m\n\u001b[0;32m    147\u001b[0m             \u001b[1;32mif\u001b[0m \u001b[0mcodecs\u001b[0m\u001b[1;33m.\u001b[0m\u001b[0mlookup\u001b[0m\u001b[1;33m(\u001b[0m\u001b[0mencoding\u001b[0m\u001b[1;33m)\u001b[0m \u001b[1;32mis\u001b[0m \u001b[0mcodecs\u001b[0m\u001b[1;33m.\u001b[0m\u001b[0mlookup\u001b[0m\u001b[1;33m(\u001b[0m\u001b[0mself\u001b[0m\u001b[1;33m.\u001b[0m\u001b[0mencoding\u001b[0m\u001b[1;33m)\u001b[0m\u001b[1;33m:\u001b[0m\u001b[1;33m\u001b[0m\u001b[1;33m\u001b[0m\u001b[0m\n\u001b[0;32m    148\u001b[0m                 \u001b[1;31m# common case: both stdin and stdout need the same encoding\u001b[0m\u001b[1;33m\u001b[0m\u001b[1;33m\u001b[0m\u001b[1;33m\u001b[0m\u001b[0m\n\u001b[1;32m--> 149\u001b[1;33m                 \u001b[1;32mreturn\u001b[0m \u001b[0mself\u001b[0m\u001b[1;33m.\u001b[0m\u001b[0m_pipe_lines_string\u001b[0m\u001b[1;33m(\u001b[0m\u001b[1;33m*\u001b[0m\u001b[0margs\u001b[0m\u001b[1;33m,\u001b[0m \u001b[0mencoding\u001b[0m\u001b[1;33m=\u001b[0m\u001b[0mencoding\u001b[0m\u001b[1;33m,\u001b[0m \u001b[1;33m**\u001b[0m\u001b[0mkwargs\u001b[0m\u001b[1;33m)\u001b[0m\u001b[1;33m\u001b[0m\u001b[1;33m\u001b[0m\u001b[0m\n\u001b[0m\u001b[0;32m    150\u001b[0m             \u001b[1;32mtry\u001b[0m\u001b[1;33m:\u001b[0m\u001b[1;33m\u001b[0m\u001b[1;33m\u001b[0m\u001b[0m\n\u001b[0;32m    151\u001b[0m                 \u001b[0mraw\u001b[0m \u001b[1;33m=\u001b[0m \u001b[0mself\u001b[0m\u001b[1;33m.\u001b[0m\u001b[0m_pipe_lines\u001b[0m\u001b[1;33m(\u001b[0m\u001b[1;33m*\u001b[0m\u001b[0margs\u001b[0m\u001b[1;33m,\u001b[0m \u001b[0minput_encoding\u001b[0m\u001b[1;33m=\u001b[0m\u001b[0mself\u001b[0m\u001b[1;33m.\u001b[0m\u001b[0mencoding\u001b[0m\u001b[1;33m,\u001b[0m \u001b[1;33m**\u001b[0m\u001b[0mkwargs\u001b[0m\u001b[1;33m)\u001b[0m\u001b[1;33m\u001b[0m\u001b[1;33m\u001b[0m\u001b[0m\n",
      "\u001b[1;32m~\\Anaconda3\\lib\\site-packages\\graphviz\\backend\\piping.py\u001b[0m in \u001b[0;36mpipe_lines_string\u001b[1;34m(engine, format, input_lines, encoding, renderer, formatter, neato_no_op, quiet)\u001b[0m\n\u001b[0;32m    210\u001b[0m     \u001b[0mkwargs\u001b[0m \u001b[1;33m=\u001b[0m \u001b[1;33m{\u001b[0m\u001b[1;34m'input_lines'\u001b[0m\u001b[1;33m:\u001b[0m \u001b[0minput_lines\u001b[0m\u001b[1;33m,\u001b[0m \u001b[1;34m'encoding'\u001b[0m\u001b[1;33m:\u001b[0m \u001b[0mencoding\u001b[0m\u001b[1;33m}\u001b[0m\u001b[1;33m\u001b[0m\u001b[1;33m\u001b[0m\u001b[0m\n\u001b[0;32m    211\u001b[0m \u001b[1;33m\u001b[0m\u001b[0m\n\u001b[1;32m--> 212\u001b[1;33m     \u001b[0mproc\u001b[0m \u001b[1;33m=\u001b[0m \u001b[0mexecute\u001b[0m\u001b[1;33m.\u001b[0m\u001b[0mrun_check\u001b[0m\u001b[1;33m(\u001b[0m\u001b[0mcmd\u001b[0m\u001b[1;33m,\u001b[0m \u001b[0mcapture_output\u001b[0m\u001b[1;33m=\u001b[0m\u001b[1;32mTrue\u001b[0m\u001b[1;33m,\u001b[0m \u001b[0mquiet\u001b[0m\u001b[1;33m=\u001b[0m\u001b[0mquiet\u001b[0m\u001b[1;33m,\u001b[0m \u001b[1;33m**\u001b[0m\u001b[0mkwargs\u001b[0m\u001b[1;33m)\u001b[0m\u001b[1;33m\u001b[0m\u001b[1;33m\u001b[0m\u001b[0m\n\u001b[0m\u001b[0;32m    213\u001b[0m     \u001b[1;32mreturn\u001b[0m \u001b[0mproc\u001b[0m\u001b[1;33m.\u001b[0m\u001b[0mstdout\u001b[0m\u001b[1;33m\u001b[0m\u001b[1;33m\u001b[0m\u001b[0m\n",
      "\u001b[1;32m~\\Anaconda3\\lib\\site-packages\\graphviz\\backend\\execute.py\u001b[0m in \u001b[0;36mrun_check\u001b[1;34m(cmd, input_lines, encoding, quiet, **kwargs)\u001b[0m\n\u001b[0;32m     82\u001b[0m     \u001b[1;32mexcept\u001b[0m \u001b[0mOSError\u001b[0m \u001b[1;32mas\u001b[0m \u001b[0me\u001b[0m\u001b[1;33m:\u001b[0m\u001b[1;33m\u001b[0m\u001b[1;33m\u001b[0m\u001b[0m\n\u001b[0;32m     83\u001b[0m         \u001b[1;32mif\u001b[0m \u001b[0me\u001b[0m\u001b[1;33m.\u001b[0m\u001b[0merrno\u001b[0m \u001b[1;33m==\u001b[0m \u001b[0merrno\u001b[0m\u001b[1;33m.\u001b[0m\u001b[0mENOENT\u001b[0m\u001b[1;33m:\u001b[0m\u001b[1;33m\u001b[0m\u001b[1;33m\u001b[0m\u001b[0m\n\u001b[1;32m---> 84\u001b[1;33m             \u001b[1;32mraise\u001b[0m \u001b[0mExecutableNotFound\u001b[0m\u001b[1;33m(\u001b[0m\u001b[0mcmd\u001b[0m\u001b[1;33m)\u001b[0m \u001b[1;32mfrom\u001b[0m \u001b[0me\u001b[0m\u001b[1;33m\u001b[0m\u001b[1;33m\u001b[0m\u001b[0m\n\u001b[0m\u001b[0;32m     85\u001b[0m         \u001b[1;32mraise\u001b[0m\u001b[1;33m\u001b[0m\u001b[1;33m\u001b[0m\u001b[0m\n\u001b[0;32m     86\u001b[0m \u001b[1;33m\u001b[0m\u001b[0m\n",
      "\u001b[1;31mExecutableNotFound\u001b[0m: failed to execute WindowsPath('dot'), make sure the Graphviz executables are on your systems' PATH"
     ]
    },
    {
     "data": {
      "text/plain": [
       "<graphviz.sources.Source at 0x24896feab20>"
      ]
     },
     "execution_count": 155,
     "metadata": {},
     "output_type": "execute_result"
    }
   ],
   "source": [
    "xgb.to_graphviz(clf_xgb, num_trees=0, size=\"10,10\")"
   ]
  },
  {
   "cell_type": "code",
   "execution_count": 68,
   "id": "1794ab8a",
   "metadata": {},
   "outputs": [],
   "source": [
    "import time\n",
    "import pandas as pd\n",
    "import itertools\n",
    "import numpy as np\n",
    "import seaborn as sns\n",
    "import matplotlib.pyplot as plt\n",
    "\n",
    "from sklearn.model_selection import train_test_split\n",
    "from sklearn.model_selection import cross_val_score\n",
    "from sklearn.model_selection import GridSearchCV\n",
    "from sklearn.pipeline import Pipeline\n",
    "from sklearn.compose import ColumnTransformer\n",
    "from sklearn.impute import SimpleImputer\n",
    "from sklearn.preprocessing import OneHotEncoder\n",
    "from sklearn.preprocessing import OrdinalEncoder\n",
    "from sklearn.preprocessing import StandardScaler\n",
    "from sklearn.preprocessing import MinMaxScaler\n",
    "from sklearn.metrics import accuracy_score\n",
    "from sklearn.metrics import roc_auc_score\n",
    "from sklearn.metrics import classification_report\n",
    "from sklearn.metrics import confusion_matrix\n",
    "from sklearn.metrics import f1_score\n",
    "\n",
    "from imblearn.over_sampling import SMOTE\n",
    "from imblearn.pipeline import Pipeline as imbpipeline\n",
    "\n",
    "from sklearn.svm import SVC\n",
    "from xgboost import XGBClassifier\n",
    "from lightgbm import LGBMClassifier\n",
    "from sklearn.dummy import DummyClassifier\n",
    "from sklearn.neighbors import KNeighborsClassifier\n",
    "from sklearn.tree import DecisionTreeClassifier\n",
    "from sklearn.tree import ExtraTreeClassifier\n",
    "from sklearn.ensemble import ExtraTreesClassifier\n",
    "from sklearn.linear_model import RidgeClassifier\n",
    "from sklearn.linear_model import SGDClassifier\n",
    "from sklearn.ensemble import RandomForestClassifier\n",
    "from sklearn.ensemble import AdaBoostClassifier\n",
    "from sklearn.ensemble import BaggingClassifier\n",
    "from sklearn.naive_bayes import BernoulliNB\n",
    "from sklearn.ensemble import VotingClassifier\n",
    "from catboost import CatBoostClassifier"
   ]
  },
  {
   "cell_type": "code",
   "execution_count": 71,
   "id": "2206c918",
   "metadata": {},
   "outputs": [],
   "source": [
    "def get_pipeline(X, model):\n",
    "    \"\"\"Return a pipeline to preprocess data and bundle with a model.\n",
    "    \n",
    "    Args:\n",
    "        X (object): X_train data. \n",
    "        model (object): scikit-learn model object, i.e. XGBClassifier\n",
    "    \n",
    "    Returns: \n",
    "        Pipeline (object): Pipeline steps. \n",
    "    \"\"\"\n",
    "    \n",
    "    numeric_columns = list(X.select_dtypes(exclude=['object']).columns.values.tolist())    \n",
    "    categorical_columns = list(X.select_dtypes(include=['object']).columns.values.tolist())\n",
    "    numeric_pipeline = SimpleImputer(strategy='constant')\n",
    "    categorical_pipeline = OneHotEncoder(handle_unknown='ignore')\n",
    "\n",
    "    preprocessor = ColumnTransformer(\n",
    "        transformers=[\n",
    "            ('numeric', numeric_pipeline, numeric_columns),\n",
    "            ('categorical', categorical_pipeline, categorical_columns),\n",
    "            ], remainder='passthrough'\n",
    "    )\n",
    "\n",
    "    bundled_pipeline = imbpipeline(steps=[\n",
    "        ('preprocessor', preprocessor),\n",
    "        ('smote', SMOTE(random_state=1)),\n",
    "        ('scaler', MinMaxScaler()),\n",
    "        ('model', model)\n",
    "    ])\n",
    "    \n",
    "    return bundled_pipeline"
   ]
  },
  {
   "cell_type": "code",
   "execution_count": 72,
   "id": "d4776c89",
   "metadata": {},
   "outputs": [
    {
     "data": {
      "text/plain": [
       "Pipeline(steps=[('preprocessor',\n",
       "                 ColumnTransformer(remainder='passthrough',\n",
       "                                   transformers=[('numeric',\n",
       "                                                  SimpleImputer(strategy='constant'),\n",
       "                                                  ['no_rent_change',\n",
       "                                                   'rent_change_10',\n",
       "                                                   'rent_change_20',\n",
       "                                                   'lease_length_2',\n",
       "                                                   'lease_length_3',\n",
       "                                                   'lease_length_1',\n",
       "                                                   'age_range_under_24',\n",
       "                                                   'age_range_30_39',\n",
       "                                                   'age_range_40_49',\n",
       "                                                   'age_range_50_59',\n",
       "                                                   'age_range_60',\n",
       "                                                   'NoFinesViolations',\n",
       "                                                   'Po...\n",
       "                               interaction_constraints=None, learning_rate=None,\n",
       "                               max_delta_step=None, max_depth=None,\n",
       "                               min_child_weight=None, missing=nan,\n",
       "                               monotone_constraints=None, n_estimators=100,\n",
       "                               n_jobs=None, num_parallel_tree=None,\n",
       "                               predictor=None, random_state=None,\n",
       "                               reg_alpha=None, reg_lambda=None,\n",
       "                               scale_pos_weight=None, subsample=None,\n",
       "                               tree_method=None, validate_parameters=None,\n",
       "                               verbosity=None))])"
      ]
     },
     "execution_count": 72,
     "metadata": {},
     "output_type": "execute_result"
    }
   ],
   "source": [
    "model = XGBClassifier()\n",
    "example_pipeline = get_pipeline(X_train, model)\n",
    "example_pipeline"
   ]
  },
  {
   "cell_type": "code",
   "execution_count": 73,
   "id": "664952ad",
   "metadata": {},
   "outputs": [],
   "source": [
    "def select_model(X, y, pipeline=None):\n",
    "    \"\"\"Test a range of classifiers and return their performance metrics on training data.\n",
    "    \n",
    "    Args:\n",
    "        X (object): Pandas dataframe containing X_train data. \n",
    "        y (object): Pandas dataframe containing y_train data. \n",
    "        pipeline (object): Pipeline from get_pipeline().\n",
    "\n",
    "    Return:\n",
    "        df (object): Pandas dataframe containing model performance data. \n",
    "    \"\"\"\n",
    "    \n",
    "    classifiers = {}\n",
    "    classifiers.update({\"DummyClassifier\": DummyClassifier(strategy='most_frequent')})\n",
    "    classifiers.update({\"XGBClassifier\": XGBClassifier(use_label_encoder=False, \n",
    "                                                       eval_metric='logloss',\n",
    "                                                       objective='binary:logistic',\n",
    "                                                      )})\n",
    "    classifiers.update({\"LGBMClassifier\": LGBMClassifier()})\n",
    "    classifiers.update({\"RandomForestClassifier\": RandomForestClassifier()})\n",
    "    classifiers.update({\"DecisionTreeClassifier\": DecisionTreeClassifier()})\n",
    "    classifiers.update({\"ExtraTreeClassifier\": ExtraTreeClassifier()})\n",
    "    classifiers.update({\"ExtraTreesClassifier\": ExtraTreeClassifier()})    \n",
    "    classifiers.update({\"AdaBoostClassifier\": AdaBoostClassifier()})\n",
    "    classifiers.update({\"KNeighborsClassifier\": KNeighborsClassifier()})\n",
    "    classifiers.update({\"RidgeClassifier\": RidgeClassifier()})\n",
    "    classifiers.update({\"SGDClassifier\": SGDClassifier()})\n",
    "    classifiers.update({\"BaggingClassifier\": BaggingClassifier()})\n",
    "    classifiers.update({\"BernoulliNB\": BernoulliNB()})\n",
    "    classifiers.update({\"SVC\": SVC()})\n",
    "    classifiers.update({\"CatBoostClassifier\":CatBoostClassifier(silent=True)})\n",
    "    \n",
    "    # Stacking\n",
    "    models = []\n",
    "\n",
    "    models = []\n",
    "    models.append(('XGBClassifier', XGBClassifier(use_label_encoder=False, eval_metric='logloss', objective='binary:logistic')))\n",
    "    models.append(('CatBoostClassifier', CatBoostClassifier(silent=True)))\n",
    "    models.append(('BaggingClassifier', BaggingClassifier()))\n",
    "    classifiers.update({\"VotingClassifier (XGBClassifier, CatBoostClassifier, BaggingClassifier)\": VotingClassifier(models)})\n",
    "\n",
    "    models = []\n",
    "    models.append(('XGBClassifier', XGBClassifier(use_label_encoder=False, eval_metric='logloss', objective='binary:logistic')))\n",
    "    models.append(('LGBMClassifier', LGBMClassifier()))\n",
    "    models.append(('CatBoostClassifier', CatBoostClassifier(silent=True)))\n",
    "    classifiers.update({\"VotingClassifier (XGBClassifier, LGBMClassifier, CatBoostClassifier)\": VotingClassifier(models)})\n",
    "    \n",
    "    models = []\n",
    "    models.append(('XGBClassifier', XGBClassifier(use_label_encoder=False, eval_metric='logloss', objective='binary:logistic')))\n",
    "    models.append(('RandomForestClassifier', RandomForestClassifier()))\n",
    "    models.append(('DecisionTreeClassifier', DecisionTreeClassifier()))\n",
    "    classifiers.update({\"VotingClassifier (XGBClassifier, RandomForestClassifier, DecisionTreeClassifier)\": VotingClassifier(models)})\n",
    "\n",
    "    models = []\n",
    "    models.append(('XGBClassifier', XGBClassifier(use_label_encoder=False, eval_metric='logloss', objective='binary:logistic')))\n",
    "    models.append(('AdaBoostClassifier', AdaBoostClassifier()))\n",
    "    models.append(('ExtraTreeClassifier', ExtraTreeClassifier()))\n",
    "    classifiers.update({\"VotingClassifier (XGBClassifier, AdaBoostClassifier, ExtraTreeClassifier)\": VotingClassifier(models)})\n",
    "    \n",
    "    models = []\n",
    "    models.append(('XGBClassifier', XGBClassifier(use_label_encoder=False, eval_metric='logloss', objective='binary:logistic')))\n",
    "    models.append(('ExtraTreesClassifier', ExtraTreesClassifier()))\n",
    "    classifiers.update({\"VotingClassifier (XGBClassifier, ExtraTreesClassifier)\": VotingClassifier(models)})    \n",
    "    \n",
    "    df_models = pd.DataFrame(columns=['model', 'run_time', 'accuracy'])\n",
    "\n",
    "    for key in classifiers:\n",
    "        \n",
    "        start_time = time.time()\n",
    "\n",
    "        pipeline = get_pipeline(X_train, classifiers[key])\n",
    "        \n",
    "        cv = cross_val_score(pipeline, X, y, cv=5, scoring='accuracy')\n",
    "\n",
    "        row = {'model': key,\n",
    "               'run_time': format(round((time.time() - start_time)/60,2)),\n",
    "               'accuracy': cv.mean(),\n",
    "        }\n",
    "\n",
    "        df_models = df_models.append(row, ignore_index=True)\n",
    "        \n",
    "    df_models = df_models.sort_values(by='accuracy', ascending=False)\n",
    "    return df_models"
   ]
  },
  {
   "cell_type": "code",
   "execution_count": 74,
   "id": "891326ef",
   "metadata": {},
   "outputs": [
    {
     "data": {
      "text/html": [
       "<div>\n",
       "<style scoped>\n",
       "    .dataframe tbody tr th:only-of-type {\n",
       "        vertical-align: middle;\n",
       "    }\n",
       "\n",
       "    .dataframe tbody tr th {\n",
       "        vertical-align: top;\n",
       "    }\n",
       "\n",
       "    .dataframe thead th {\n",
       "        text-align: right;\n",
       "    }\n",
       "</style>\n",
       "<table border=\"1\" class=\"dataframe\">\n",
       "  <thead>\n",
       "    <tr style=\"text-align: right;\">\n",
       "      <th></th>\n",
       "      <th>model</th>\n",
       "      <th>run_time</th>\n",
       "      <th>accuracy</th>\n",
       "    </tr>\n",
       "  </thead>\n",
       "  <tbody>\n",
       "    <tr>\n",
       "      <th>0</th>\n",
       "      <td>DummyClassifier</td>\n",
       "      <td>0.05</td>\n",
       "      <td>0.804115</td>\n",
       "    </tr>\n",
       "    <tr>\n",
       "      <th>8</th>\n",
       "      <td>KNeighborsClassifier</td>\n",
       "      <td>0.87</td>\n",
       "      <td>0.766580</td>\n",
       "    </tr>\n",
       "    <tr>\n",
       "      <th>10</th>\n",
       "      <td>SGDClassifier</td>\n",
       "      <td>0.09</td>\n",
       "      <td>0.659200</td>\n",
       "    </tr>\n",
       "    <tr>\n",
       "      <th>7</th>\n",
       "      <td>AdaBoostClassifier</td>\n",
       "      <td>0.19</td>\n",
       "      <td>0.642258</td>\n",
       "    </tr>\n",
       "    <tr>\n",
       "      <th>9</th>\n",
       "      <td>RidgeClassifier</td>\n",
       "      <td>0.07</td>\n",
       "      <td>0.640827</td>\n",
       "    </tr>\n",
       "    <tr>\n",
       "      <th>2</th>\n",
       "      <td>LGBMClassifier</td>\n",
       "      <td>0.08</td>\n",
       "      <td>0.622900</td>\n",
       "    </tr>\n",
       "    <tr>\n",
       "      <th>19</th>\n",
       "      <td>VotingClassifier (XGBClassifier, ExtraTreesCla...</td>\n",
       "      <td>0.71</td>\n",
       "      <td>0.622721</td>\n",
       "    </tr>\n",
       "    <tr>\n",
       "      <th>12</th>\n",
       "      <td>BernoulliNB</td>\n",
       "      <td>0.07</td>\n",
       "      <td>0.621505</td>\n",
       "    </tr>\n",
       "    <tr>\n",
       "      <th>13</th>\n",
       "      <td>SVC</td>\n",
       "      <td>43.14</td>\n",
       "      <td>0.620181</td>\n",
       "    </tr>\n",
       "    <tr>\n",
       "      <th>16</th>\n",
       "      <td>VotingClassifier (XGBClassifier, LGBMClassifie...</td>\n",
       "      <td>2.23</td>\n",
       "      <td>0.619537</td>\n",
       "    </tr>\n",
       "    <tr>\n",
       "      <th>14</th>\n",
       "      <td>CatBoostClassifier</td>\n",
       "      <td>1.4</td>\n",
       "      <td>0.619286</td>\n",
       "    </tr>\n",
       "    <tr>\n",
       "      <th>18</th>\n",
       "      <td>VotingClassifier (XGBClassifier, AdaBoostClass...</td>\n",
       "      <td>0.58</td>\n",
       "      <td>0.619054</td>\n",
       "    </tr>\n",
       "    <tr>\n",
       "      <th>5</th>\n",
       "      <td>ExtraTreeClassifier</td>\n",
       "      <td>0.07</td>\n",
       "      <td>0.618839</td>\n",
       "    </tr>\n",
       "    <tr>\n",
       "      <th>6</th>\n",
       "      <td>ExtraTreesClassifier</td>\n",
       "      <td>0.06</td>\n",
       "      <td>0.618767</td>\n",
       "    </tr>\n",
       "    <tr>\n",
       "      <th>4</th>\n",
       "      <td>DecisionTreeClassifier</td>\n",
       "      <td>0.07</td>\n",
       "      <td>0.618767</td>\n",
       "    </tr>\n",
       "    <tr>\n",
       "      <th>17</th>\n",
       "      <td>VotingClassifier (XGBClassifier, RandomForestC...</td>\n",
       "      <td>0.64</td>\n",
       "      <td>0.618624</td>\n",
       "    </tr>\n",
       "    <tr>\n",
       "      <th>11</th>\n",
       "      <td>BaggingClassifier</td>\n",
       "      <td>0.1</td>\n",
       "      <td>0.618177</td>\n",
       "    </tr>\n",
       "    <tr>\n",
       "      <th>1</th>\n",
       "      <td>XGBClassifier</td>\n",
       "      <td>0.23</td>\n",
       "      <td>0.618087</td>\n",
       "    </tr>\n",
       "    <tr>\n",
       "      <th>15</th>\n",
       "      <td>VotingClassifier (XGBClassifier, CatBoostClass...</td>\n",
       "      <td>2.14</td>\n",
       "      <td>0.617944</td>\n",
       "    </tr>\n",
       "    <tr>\n",
       "      <th>3</th>\n",
       "      <td>RandomForestClassifier</td>\n",
       "      <td>0.29</td>\n",
       "      <td>0.617551</td>\n",
       "    </tr>\n",
       "  </tbody>\n",
       "</table>\n",
       "</div>"
      ],
      "text/plain": [
       "                                                model run_time  accuracy\n",
       "0                                     DummyClassifier     0.05  0.804115\n",
       "8                                KNeighborsClassifier     0.87  0.766580\n",
       "10                                      SGDClassifier     0.09  0.659200\n",
       "7                                  AdaBoostClassifier     0.19  0.642258\n",
       "9                                     RidgeClassifier     0.07  0.640827\n",
       "2                                      LGBMClassifier     0.08  0.622900\n",
       "19  VotingClassifier (XGBClassifier, ExtraTreesCla...     0.71  0.622721\n",
       "12                                        BernoulliNB     0.07  0.621505\n",
       "13                                                SVC    43.14  0.620181\n",
       "16  VotingClassifier (XGBClassifier, LGBMClassifie...     2.23  0.619537\n",
       "14                                 CatBoostClassifier      1.4  0.619286\n",
       "18  VotingClassifier (XGBClassifier, AdaBoostClass...     0.58  0.619054\n",
       "5                                 ExtraTreeClassifier     0.07  0.618839\n",
       "6                                ExtraTreesClassifier     0.06  0.618767\n",
       "4                              DecisionTreeClassifier     0.07  0.618767\n",
       "17  VotingClassifier (XGBClassifier, RandomForestC...     0.64  0.618624\n",
       "11                                  BaggingClassifier      0.1  0.618177\n",
       "1                                       XGBClassifier     0.23  0.618087\n",
       "15  VotingClassifier (XGBClassifier, CatBoostClass...     2.14  0.617944\n",
       "3                              RandomForestClassifier     0.29  0.617551"
      ]
     },
     "execution_count": 74,
     "metadata": {},
     "output_type": "execute_result"
    }
   ],
   "source": [
    "models = select_model(X_train, y_train)\n",
    "models.head(20)"
   ]
  },
  {
   "cell_type": "code",
   "execution_count": 82,
   "id": "83696724",
   "metadata": {},
   "outputs": [],
   "source": [
    "stacked_models = []\n",
    "stacked_models.append(('KNeighborsClassifier', KNeighborsClassifier()))\n",
    "stacked_models.append(('SGDClassifier', SGDClassifier()))\n",
    "stacked_models.append(('AdaBoostClassifier', AdaBoostClassifier()))\n",
    "stacked_model = VotingClassifier(stacked_models)"
   ]
  },
  {
   "cell_type": "code",
   "execution_count": 83,
   "id": "849d0427",
   "metadata": {},
   "outputs": [],
   "source": [
    "bundled_pipeline = get_pipeline(X_train, stacked_model)\n",
    "bundled_pipeline.fit(X_train, y_train)\n",
    "y_pred = bundled_pipeline.predict(X_test)"
   ]
  },
  {
   "cell_type": "code",
   "execution_count": 84,
   "id": "5b8caaf5",
   "metadata": {},
   "outputs": [],
   "source": [
    "roc_auc = roc_auc_score(y_test, y_pred)\n",
    "accuracy = accuracy_score(y_test, y_pred)\n",
    "f1_score = f1_score(y_test, y_pred)"
   ]
  },
  {
   "cell_type": "code",
   "execution_count": 85,
   "id": "03832760",
   "metadata": {},
   "outputs": [
    {
     "name": "stdout",
     "output_type": "stream",
     "text": [
      "ROC/AUC: 0.5947640975653876\n",
      "Accuracy: 0.6776038405343352\n",
      "F1 score: 0.3578614783404008\n"
     ]
    }
   ],
   "source": [
    "print('ROC/AUC:', roc_auc)\n",
    "print('Accuracy:', accuracy)\n",
    "print('F1 score:', f1_score)"
   ]
  },
  {
   "cell_type": "code",
   "execution_count": 86,
   "id": "a0bd756c",
   "metadata": {},
   "outputs": [
    {
     "name": "stdout",
     "output_type": "stream",
     "text": [
      "              precision    recall  f1-score   support\n",
      "\n",
      "           0       0.85      0.73      0.78     19262\n",
      "           1       0.29      0.46      0.36      4693\n",
      "\n",
      "    accuracy                           0.68     23955\n",
      "   macro avg       0.57      0.59      0.57     23955\n",
      "weighted avg       0.74      0.68      0.70     23955\n",
      "\n"
     ]
    }
   ],
   "source": [
    "print(classification_report(y_test, y_pred))"
   ]
  },
  {
   "cell_type": "code",
   "execution_count": 87,
   "id": "9b1c6f71",
   "metadata": {},
   "outputs": [
    {
     "data": {
      "text/plain": [
       "array([[14080,  5182],\n",
       "       [ 2541,  2152]], dtype=int64)"
      ]
     },
     "execution_count": 87,
     "metadata": {},
     "output_type": "execute_result"
    }
   ],
   "source": [
    "confusion_matrix(y_test, y_pred)"
   ]
  },
  {
   "cell_type": "code",
   "execution_count": null,
   "id": "b6c20733",
   "metadata": {},
   "outputs": [],
   "source": []
  }
 ],
 "metadata": {
  "kernelspec": {
   "display_name": "Python 3 (ipykernel)",
   "language": "python",
   "name": "python3"
  },
  "language_info": {
   "codemirror_mode": {
    "name": "ipython",
    "version": 3
   },
   "file_extension": ".py",
   "mimetype": "text/x-python",
   "name": "python",
   "nbconvert_exporter": "python",
   "pygments_lexer": "ipython3",
   "version": "3.8.8"
  }
 },
 "nbformat": 4,
 "nbformat_minor": 5
}
